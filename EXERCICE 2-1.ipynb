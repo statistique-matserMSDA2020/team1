{
 "cells": [
  {
   "cell_type": "markdown",
   "metadata": {},
   "source": [
    "Membres du grgoupes:Amy DIAO\n",
    "                    Louis Isacc Jean Samba DIOUF\n",
    "                    Marie Marone M.L.M FAYE"
   ]
  },
  {
   "cell_type": "code",
   "execution_count": 1,
   "metadata": {},
   "outputs": [],
   "source": [
    "import matplotlib.pyplot as plt\n",
    "import numpy as np\n"
   ]
  },
  {
   "cell_type": "code",
   "execution_count": 2,
   "metadata": {},
   "outputs": [],
   "source": [
    "x=np.array([18,7,14,31,21,5,11,16,26,29])\n",
    "y=np.array([55,17,36,85,62,18,33,41,63,87])\n"
   ]
  },
  {
   "cell_type": "code",
   "execution_count": 3,
   "metadata": {},
   "outputs": [
    {
     "data": {
      "image/png": "[encoded data removed]",
      "text/plain": [
       "<Figure size 432x288 with 1 Axes>"
      ]
     },
     "metadata": {
      "needs_background": "light"
     },
     "output_type": "display_data"
    }
   ],
   "source": [
    "plt.scatter(x,y)\n",
    "plt.show()"
   ]
  },
  {
   "cell_type": "markdown",
   "metadata": {},
   "source": [
    "Oui nous pouvons soupçonner une liaison linéaire entre ces deux variables."
   ]
  },
  {
   "cell_type": "markdown",
   "metadata": {},
   "source": [
    "3) Donnons les coefficicients de la droite des moindres carrés"
   ]
  },
  {
   "cell_type": "code",
   "execution_count": 1,
   "metadata": {},
   "outputs": [
    {
     "ename": "SyntaxError",
     "evalue": "invalid character in identifier (<ipython-input-1-6dcfb503e594>, line 3)",
     "output_type": "error",
     "traceback": [
      "\u001b[1;36m  File \u001b[1;32m\"<ipython-input-1-6dcfb503e594>\"\u001b[1;36m, line \u001b[1;32m3\u001b[0m\n\u001b[1;33m    (xi-x̅)²=np.array([0.04,116.64,14.44,174.24,10.24,163.84,46.24,3.24,67.24,125.44])\u001b[0m\n\u001b[1;37m           ^\u001b[0m\n\u001b[1;31mSyntaxError\u001b[0m\u001b[1;31m:\u001b[0m invalid character in identifier\n"
     ]
    }
   ],
   "source": [
    "xi-x̅=np.array([0.2,-10.8,-3.8,13.2,3.2,-12.8,-6.8,-1.8,8.2,11.2])\n",
    "yi-y̅=np.array([5.3,-32.7,-13.7,35.3,12.3,-31.7,-16.7,-8.7,13.3,37.3])\n",
    "(xi-x̅)²=np.array([0.04,116.64,14.44,174.24,10.24,163.84,46.24,3.24,67.24,125.44])\n",
    "(yi-y̅)²=np.array([28.09,1069.29,187.69,1246.09,151.29,1004.89,278.89,75.69,176.89,1391.29])\n",
    "(xi-x̅)(yi-y̅)=np.array([1.06,353.16,52.06,465.96,39.36,405.76,113.56,15.66,109.06,417.76])"
   ]
  },
  {
   "cell_type": "markdown",
   "metadata": {},
   "source": [
    "x̅=Ʃxi/N=178/10=17.8\n",
    "y̅=Ʃyi/N=497/10=49.7\n",
    "a=(xi-x̅)(yi-y̅)/(xi-x̅)²=1973.4/721.6=2.734\n",
    "y̅=ax̅+b\n",
    "→b=y̅-ax̅=49.7-(2.734*17.8)=1.034\n",
    "Donc les coefficients de la droite des moindres carrés sont:\n",
    "a=2.734 et b=1.034\n"
   ]
  },
  {
   "cell_type": "markdown",
   "metadata": {},
   "source": [
    "4)Donnons les ordonnées des yi calculés par la droite des moindres carrés correspondant aux différentes valeurs des xi:\n",
    "y=ax+b → y=2.734x+1.034\n",
    "Y1=2.734(18)+1.034=50.246\n",
    "Y2=2.734(7)+1.034=20.172\n",
    "Y3=2.734(14)+1.034=39.31\n",
    "Y4=2.734(31)+1.034=85.788\n",
    "Y5=2.734(21)+1.034=58.448\n",
    "Y6=2.734(5)+1.034=14.704\n",
    "Y7=2.734(11)+1.034=31.108\n",
    "Y8=2.734(16)+1.034=44.778\n",
    "Y9=2.734(26)+1.034=72.118\n",
    "Y10=2.734(29)+1.034=80.32"
   ]
  },
  {
   "cell_type": "markdown",
   "metadata": {},
   "source": [
    "6)l'estimation plausible de y à xi=21 c'est 58.448"
   ]
  },
  {
   "cell_type": "markdown",
   "metadata": {},
   "source": [
    "7)l'écart entre la valeur observée et la valeur estimée est de:\n",
    "Y=Yѳ-Ye=62-58.448=3.552\n",
    "cet écart s'appelle l'erreur d'ajustement appelée aussi résidu ou écart résiduel."
   ]
  },
  {
   "cell_type": "markdown",
   "metadata": {},
   "source": [
    "8)Oui la droite des moindres carrées obtenue en 2 passe par le point (x̅,y̅).\n",
    "Si nous pouvons généraliser cette conclusion à n'importe quelle droite de régression."
   ]
  }
 ],
 "metadata": {
  "kernelspec": {
   "display_name": "Python 3",
   "language": "python",
   "name": "python3"
  },
  "language_info": {
   "codemirror_mode": {
    "name": "ipython",
    "version": 3
   },
   "file_extension": ".py",
   "mimetype": "text/x-python",
   "name": "python",
   "nbconvert_exporter": "python",
   "pygments_lexer": "ipython3",
   "version": "3.7.1"
  }
 },
 "nbformat": 4,
 "nbformat_minor": 2
}
