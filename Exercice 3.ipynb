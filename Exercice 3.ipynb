{
 "cells": [
  {
   "cell_type": "markdown",
   "metadata": {},
   "source": [
    "Membres du grgoupes:Amy DIAO\n",
    "                    Louis Isacc Jean Samba DIOUF\n",
    "                    Marie Marone M.L.M FAYE"
   ]
  },
  {
   "cell_type": "code",
   "execution_count": 165,
   "metadata": {
    "colab": {},
    "colab_type": "code",
    "executionInfo": {
     "elapsed": 682,
     "status": "ok",
     "timestamp": 1594747687632,
     "user": {
      "displayName": "Louis Issac Jean Samba DIOUF",
      "photoUrl": "https://lh3.googleusercontent.com/a-/AOh14GhDbQd109018SMPnl6j49HHxZFfO20CmAISQWah=s64",
      "userId": "00842910773125250721"
     },
     "user_tz": 0
    },
    "id": "V0vv1W8QHO9U"
   },
   "outputs": [],
   "source": [
    "import pandas as pd\n",
    "import matplotlib.pyplot as plt\n",
    "import numpy as np\n",
    "import csv\n",
    "import seaborn as sns\n",
    "import math"
   ]
  },
  {
   "cell_type": "markdown",
   "metadata": {
    "colab_type": "text",
    "id": "qEzaUjkHJKiV"
   },
   "source": [
    "## **1. Mise des données dans un format adapté**"
   ]
  },
  {
   "cell_type": "code",
   "execution_count": 2,
   "metadata": {
    "colab": {},
    "colab_type": "code",
    "executionInfo": {
     "elapsed": 1574,
     "status": "ok",
     "timestamp": 1594737326029,
     "user": {
      "displayName": "Louis Issac Jean Samba DIOUF",
      "photoUrl": "https://lh3.googleusercontent.com/a-/AOh14GhDbQd109018SMPnl6j49HHxZFfO20CmAISQWah=s64",
      "userId": "00842910773125250721"
     },
     "user_tz": 0
    },
    "id": "gwUnGQGYIIHs"
   },
   "outputs": [],
   "source": [
    "data = pd.read_csv('https://raw.githubusercontent.com/statistique-matserMSDA2020/projetStat/master/smp.csv', sep=';')"
   ]
  },
  {
   "cell_type": "code",
   "execution_count": 3,
   "metadata": {
    "colab": {
     "base_uri": "https://localhost:8080/",
     "height": 224
    },
    "colab_type": "code",
    "executionInfo": {
     "elapsed": 1569,
     "status": "ok",
     "timestamp": 1594737326029,
     "user": {
      "displayName": "Louis Issac Jean Samba DIOUF",
      "photoUrl": "https://lh3.googleusercontent.com/a-/AOh14GhDbQd109018SMPnl6j49HHxZFfO20CmAISQWah=s64",
      "userId": "00842910773125250721"
     },
     "user_tz": 0
    },
    "id": "TC9443c9Is6m",
    "outputId": "8427af63-df2e-42d8-c587-7d5fed834499"
   },
   "outputs": [
    {
     "data": {
      "text/html": [
       "<div>\n",
       "<style scoped>\n",
       "    .dataframe tbody tr th:only-of-type {\n",
       "        vertical-align: middle;\n",
       "    }\n",
       "\n",
       "    .dataframe tbody tr th {\n",
       "        vertical-align: top;\n",
       "    }\n",
       "\n",
       "    .dataframe thead th {\n",
       "        text-align: right;\n",
       "    }\n",
       "</style>\n",
       "<table border=\"1\" class=\"dataframe\">\n",
       "  <thead>\n",
       "    <tr style=\"text-align: right;\">\n",
       "      <th></th>\n",
       "      <th>age</th>\n",
       "      <th>prof</th>\n",
       "      <th>duree</th>\n",
       "      <th>discip</th>\n",
       "      <th>n.enfant</th>\n",
       "      <th>n.fratrie</th>\n",
       "      <th>ecole</th>\n",
       "      <th>separation</th>\n",
       "      <th>juge.enfant</th>\n",
       "      <th>place</th>\n",
       "      <th>abus</th>\n",
       "      <th>grav.cons</th>\n",
       "      <th>dep.cons</th>\n",
       "      <th>ago.cons</th>\n",
       "      <th>ptsd.cons</th>\n",
       "      <th>alc.cons</th>\n",
       "      <th>subst.cons</th>\n",
       "      <th>scz.cons</th>\n",
       "      <th>char</th>\n",
       "      <th>rs</th>\n",
       "      <th>ed</th>\n",
       "      <th>dr</th>\n",
       "      <th>suicide.s</th>\n",
       "      <th>suicide.hr</th>\n",
       "      <th>suicide.past</th>\n",
       "      <th>dur.interv</th>\n",
       "    </tr>\n",
       "  </thead>\n",
       "  <tbody>\n",
       "    <tr>\n",
       "      <th>0</th>\n",
       "      <td>31.0</td>\n",
       "      <td>autre</td>\n",
       "      <td>4.0</td>\n",
       "      <td>0.0</td>\n",
       "      <td>2.0</td>\n",
       "      <td>4</td>\n",
       "      <td>1.0</td>\n",
       "      <td>0.0</td>\n",
       "      <td>0.0</td>\n",
       "      <td>0.0</td>\n",
       "      <td>0.0</td>\n",
       "      <td>1.0</td>\n",
       "      <td>0</td>\n",
       "      <td>1</td>\n",
       "      <td>0</td>\n",
       "      <td>0</td>\n",
       "      <td>0</td>\n",
       "      <td>0</td>\n",
       "      <td>1.0</td>\n",
       "      <td>2.0</td>\n",
       "      <td>1.0</td>\n",
       "      <td>1.0</td>\n",
       "      <td>0.0</td>\n",
       "      <td>0.0</td>\n",
       "      <td>0.0</td>\n",
       "      <td>NaN</td>\n",
       "    </tr>\n",
       "    <tr>\n",
       "      <th>1</th>\n",
       "      <td>49.0</td>\n",
       "      <td>NaN</td>\n",
       "      <td>NaN</td>\n",
       "      <td>0.0</td>\n",
       "      <td>7.0</td>\n",
       "      <td>3</td>\n",
       "      <td>2.0</td>\n",
       "      <td>1.0</td>\n",
       "      <td>0.0</td>\n",
       "      <td>0.0</td>\n",
       "      <td>0.0</td>\n",
       "      <td>2.0</td>\n",
       "      <td>0</td>\n",
       "      <td>0</td>\n",
       "      <td>0</td>\n",
       "      <td>0</td>\n",
       "      <td>0</td>\n",
       "      <td>0</td>\n",
       "      <td>1.0</td>\n",
       "      <td>2.0</td>\n",
       "      <td>2.0</td>\n",
       "      <td>1.0</td>\n",
       "      <td>0.0</td>\n",
       "      <td>0.0</td>\n",
       "      <td>0.0</td>\n",
       "      <td>70.0</td>\n",
       "    </tr>\n",
       "    <tr>\n",
       "      <th>2</th>\n",
       "      <td>50.0</td>\n",
       "      <td>prof.intermediaire</td>\n",
       "      <td>5.0</td>\n",
       "      <td>0.0</td>\n",
       "      <td>2.0</td>\n",
       "      <td>2</td>\n",
       "      <td>2.0</td>\n",
       "      <td>0.0</td>\n",
       "      <td>0.0</td>\n",
       "      <td>0.0</td>\n",
       "      <td>0.0</td>\n",
       "      <td>2.0</td>\n",
       "      <td>0</td>\n",
       "      <td>0</td>\n",
       "      <td>0</td>\n",
       "      <td>0</td>\n",
       "      <td>0</td>\n",
       "      <td>0</td>\n",
       "      <td>1.0</td>\n",
       "      <td>2.0</td>\n",
       "      <td>3.0</td>\n",
       "      <td>2.0</td>\n",
       "      <td>0.0</td>\n",
       "      <td>0.0</td>\n",
       "      <td>0.0</td>\n",
       "      <td>NaN</td>\n",
       "    </tr>\n",
       "    <tr>\n",
       "      <th>3</th>\n",
       "      <td>47.0</td>\n",
       "      <td>ouvrier</td>\n",
       "      <td>NaN</td>\n",
       "      <td>0.0</td>\n",
       "      <td>0.0</td>\n",
       "      <td>6</td>\n",
       "      <td>1.0</td>\n",
       "      <td>1.0</td>\n",
       "      <td>0.0</td>\n",
       "      <td>1.0</td>\n",
       "      <td>0.0</td>\n",
       "      <td>1.0</td>\n",
       "      <td>0</td>\n",
       "      <td>0</td>\n",
       "      <td>0</td>\n",
       "      <td>0</td>\n",
       "      <td>0</td>\n",
       "      <td>0</td>\n",
       "      <td>1.0</td>\n",
       "      <td>2.0</td>\n",
       "      <td>2.0</td>\n",
       "      <td>2.0</td>\n",
       "      <td>1.0</td>\n",
       "      <td>0.0</td>\n",
       "      <td>0.0</td>\n",
       "      <td>105.0</td>\n",
       "    </tr>\n",
       "    <tr>\n",
       "      <th>4</th>\n",
       "      <td>23.0</td>\n",
       "      <td>sans emploi</td>\n",
       "      <td>4.0</td>\n",
       "      <td>1.0</td>\n",
       "      <td>1.0</td>\n",
       "      <td>6</td>\n",
       "      <td>1.0</td>\n",
       "      <td>1.0</td>\n",
       "      <td>NaN</td>\n",
       "      <td>1.0</td>\n",
       "      <td>0.0</td>\n",
       "      <td>2.0</td>\n",
       "      <td>1</td>\n",
       "      <td>0</td>\n",
       "      <td>0</td>\n",
       "      <td>0</td>\n",
       "      <td>0</td>\n",
       "      <td>0</td>\n",
       "      <td>1.0</td>\n",
       "      <td>2.0</td>\n",
       "      <td>2.0</td>\n",
       "      <td>2.0</td>\n",
       "      <td>0.0</td>\n",
       "      <td>0.0</td>\n",
       "      <td>1.0</td>\n",
       "      <td>NaN</td>\n",
       "    </tr>\n",
       "  </tbody>\n",
       "</table>\n",
       "</div>"
      ],
      "text/plain": [
       "    age                prof  duree  ...  suicide.hr  suicide.past  dur.interv\n",
       "0  31.0               autre    4.0  ...         0.0           0.0         NaN\n",
       "1  49.0                 NaN    NaN  ...         0.0           0.0        70.0\n",
       "2  50.0  prof.intermediaire    5.0  ...         0.0           0.0         NaN\n",
       "3  47.0             ouvrier    NaN  ...         0.0           0.0       105.0\n",
       "4  23.0         sans emploi    4.0  ...         0.0           1.0         NaN\n",
       "\n",
       "[5 rows x 26 columns]"
      ]
     },
     "execution_count": 3,
     "metadata": {
      "tags": []
     },
     "output_type": "execute_result"
    }
   ],
   "source": [
    "data.head()"
   ]
  },
  {
   "cell_type": "markdown",
   "metadata": {
    "colab_type": "text",
    "id": "dxQgQd-mJkYt"
   },
   "source": [
    "### Structure du jeu de données"
   ]
  },
  {
   "cell_type": "code",
   "execution_count": 4,
   "metadata": {
    "colab": {
     "base_uri": "https://localhost:8080/",
     "height": 35
    },
    "colab_type": "code",
    "executionInfo": {
     "elapsed": 1564,
     "status": "ok",
     "timestamp": 1594737326030,
     "user": {
      "displayName": "Louis Issac Jean Samba DIOUF",
      "photoUrl": "https://lh3.googleusercontent.com/a-/AOh14GhDbQd109018SMPnl6j49HHxZFfO20CmAISQWah=s64",
      "userId": "00842910773125250721"
     },
     "user_tz": 0
    },
    "id": "mjw8NZdzIumO",
    "outputId": "32c29370-de10-463a-b68a-dc54f2ad9952"
   },
   "outputs": [
    {
     "data": {
      "text/plain": [
       "(799, 26)"
      ]
     },
     "execution_count": 4,
     "metadata": {
      "tags": []
     },
     "output_type": "execute_result"
    }
   ],
   "source": [
    "data.shape"
   ]
  },
  {
   "cell_type": "markdown",
   "metadata": {
    "colab_type": "text",
    "id": "sSsiF56uKGUg"
   },
   "source": [
    "## **2. Changement des types de variable**\n",
    "\n",
    "### Types des variables"
   ]
  },
  {
   "cell_type": "code",
   "execution_count": 5,
   "metadata": {
    "colab": {
     "base_uri": "https://localhost:8080/",
     "height": 503
    },
    "colab_type": "code",
    "executionInfo": {
     "elapsed": 1558,
     "status": "ok",
     "timestamp": 1594737326031,
     "user": {
      "displayName": "Louis Issac Jean Samba DIOUF",
      "photoUrl": "https://lh3.googleusercontent.com/a-/AOh14GhDbQd109018SMPnl6j49HHxZFfO20CmAISQWah=s64",
      "userId": "00842910773125250721"
     },
     "user_tz": 0
    },
    "id": "1Csm61mhJTaJ",
    "outputId": "a8ba3568-c72c-41ca-978f-730dcd2af850"
   },
   "outputs": [
    {
     "data": {
      "text/plain": [
       "age             float64\n",
       "prof             object\n",
       "duree           float64\n",
       "discip          float64\n",
       "n.enfant        float64\n",
       "n.fratrie         int64\n",
       "ecole           float64\n",
       "separation      float64\n",
       "juge.enfant     float64\n",
       "place           float64\n",
       "abus            float64\n",
       "grav.cons       float64\n",
       "dep.cons          int64\n",
       "ago.cons          int64\n",
       "ptsd.cons         int64\n",
       "alc.cons          int64\n",
       "subst.cons        int64\n",
       "scz.cons          int64\n",
       "char            float64\n",
       "rs              float64\n",
       "ed              float64\n",
       "dr              float64\n",
       "suicide.s       float64\n",
       "suicide.hr      float64\n",
       "suicide.past    float64\n",
       "dur.interv      float64\n",
       "dtype: object"
      ]
     },
     "execution_count": 5,
     "metadata": {
      "tags": []
     },
     "output_type": "execute_result"
    }
   ],
   "source": [
    "data.dtypes"
   ]
  },
  {
   "cell_type": "markdown",
   "metadata": {
    "colab_type": "text",
    "id": "YH_r39JHKbHI"
   },
   "source": [
    "### Modification du type de variables"
   ]
  },
  {
   "cell_type": "code",
   "execution_count": 6,
   "metadata": {
    "colab": {},
    "colab_type": "code",
    "executionInfo": {
     "elapsed": 1553,
     "status": "ok",
     "timestamp": 1594737326031,
     "user": {
      "displayName": "Louis Issac Jean Samba DIOUF",
      "photoUrl": "https://lh3.googleusercontent.com/a-/AOh14GhDbQd109018SMPnl6j49HHxZFfO20CmAISQWah=s64",
      "userId": "00842910773125250721"
     },
     "user_tz": 0
    },
    "id": "KX8vZ08MJxFE"
   },
   "outputs": [],
   "source": [
    "data.loc[:,'prof':'discip'] = data.loc[:,'prof':'discip'].astype('category')\n",
    "data.loc[:,'ecole':'dr'] = data.loc[:,'ecole':'dr'].astype('category')\n",
    "data.loc[:,'suicide.hr':'suicide.past'] = data.loc[:,'suicide.hr':'suicide.past'].astype('category')"
   ]
  },
  {
   "cell_type": "code",
   "execution_count": 7,
   "metadata": {
    "colab": {
     "base_uri": "https://localhost:8080/",
     "height": 503
    },
    "colab_type": "code",
    "executionInfo": {
     "elapsed": 1865,
     "status": "ok",
     "timestamp": 1594737326347,
     "user": {
      "displayName": "Louis Issac Jean Samba DIOUF",
      "photoUrl": "https://lh3.googleusercontent.com/a-/AOh14GhDbQd109018SMPnl6j49HHxZFfO20CmAISQWah=s64",
      "userId": "00842910773125250721"
     },
     "user_tz": 0
    },
    "id": "hgQEHHLvKjMw",
    "outputId": "e618f36d-f611-4bb2-e4d2-ca14e1b0efdf"
   },
   "outputs": [
    {
     "data": {
      "text/plain": [
       "age              float64\n",
       "prof            category\n",
       "duree           category\n",
       "discip          category\n",
       "n.enfant         float64\n",
       "n.fratrie          int64\n",
       "ecole           category\n",
       "separation      category\n",
       "juge.enfant     category\n",
       "place           category\n",
       "abus            category\n",
       "grav.cons       category\n",
       "dep.cons        category\n",
       "ago.cons        category\n",
       "ptsd.cons       category\n",
       "alc.cons        category\n",
       "subst.cons      category\n",
       "scz.cons        category\n",
       "char            category\n",
       "rs              category\n",
       "ed              category\n",
       "dr              category\n",
       "suicide.s        float64\n",
       "suicide.hr      category\n",
       "suicide.past    category\n",
       "dur.interv       float64\n",
       "dtype: object"
      ]
     },
     "execution_count": 7,
     "metadata": {
      "tags": []
     },
     "output_type": "execute_result"
    }
   ],
   "source": [
    "data.dtypes"
   ]
  },
  {
   "cell_type": "markdown",
   "metadata": {
    "colab_type": "text",
    "id": "htwaiWjvTpiz"
   },
   "source": [
    "## **3. Calcul de la moyenne, la variance, et l’écart type pour chacune des variables suivantes: age, n.enfant, n.fratrie, dur.interv.**"
   ]
  },
  {
   "cell_type": "code",
   "execution_count": 8,
   "metadata": {
    "colab": {
     "base_uri": "https://localhost:8080/",
     "height": 297
    },
    "colab_type": "code",
    "executionInfo": {
     "elapsed": 1861,
     "status": "ok",
     "timestamp": 1594737326348,
     "user": {
      "displayName": "Louis Issac Jean Samba DIOUF",
      "photoUrl": "https://lh3.googleusercontent.com/a-/AOh14GhDbQd109018SMPnl6j49HHxZFfO20CmAISQWah=s64",
      "userId": "00842910773125250721"
     },
     "user_tz": 0
    },
    "id": "rplsWnBDNEp0",
    "outputId": "c2bbf4e8-f673-455d-dcd8-d506864da463"
   },
   "outputs": [
    {
     "data": {
      "text/html": [
       "<div>\n",
       "<style scoped>\n",
       "    .dataframe tbody tr th:only-of-type {\n",
       "        vertical-align: middle;\n",
       "    }\n",
       "\n",
       "    .dataframe tbody tr th {\n",
       "        vertical-align: top;\n",
       "    }\n",
       "\n",
       "    .dataframe thead th {\n",
       "        text-align: right;\n",
       "    }\n",
       "</style>\n",
       "<table border=\"1\" class=\"dataframe\">\n",
       "  <thead>\n",
       "    <tr style=\"text-align: right;\">\n",
       "      <th></th>\n",
       "      <th>age</th>\n",
       "      <th>n.enfant</th>\n",
       "      <th>n.fratrie</th>\n",
       "      <th>dur.interv</th>\n",
       "    </tr>\n",
       "  </thead>\n",
       "  <tbody>\n",
       "    <tr>\n",
       "      <th>count</th>\n",
       "      <td>797.000000</td>\n",
       "      <td>773.000000</td>\n",
       "      <td>799.000000</td>\n",
       "      <td>749.000000</td>\n",
       "    </tr>\n",
       "    <tr>\n",
       "      <th>mean</th>\n",
       "      <td>38.899624</td>\n",
       "      <td>1.755498</td>\n",
       "      <td>4.286608</td>\n",
       "      <td>61.891856</td>\n",
       "    </tr>\n",
       "    <tr>\n",
       "      <th>std</th>\n",
       "      <td>13.280978</td>\n",
       "      <td>1.834044</td>\n",
       "      <td>3.441485</td>\n",
       "      <td>19.669605</td>\n",
       "    </tr>\n",
       "    <tr>\n",
       "      <th>min</th>\n",
       "      <td>19.000000</td>\n",
       "      <td>0.000000</td>\n",
       "      <td>0.000000</td>\n",
       "      <td>0.000000</td>\n",
       "    </tr>\n",
       "    <tr>\n",
       "      <th>25%</th>\n",
       "      <td>28.000000</td>\n",
       "      <td>0.000000</td>\n",
       "      <td>2.000000</td>\n",
       "      <td>48.000000</td>\n",
       "    </tr>\n",
       "    <tr>\n",
       "      <th>50%</th>\n",
       "      <td>37.000000</td>\n",
       "      <td>1.000000</td>\n",
       "      <td>3.000000</td>\n",
       "      <td>60.000000</td>\n",
       "    </tr>\n",
       "    <tr>\n",
       "      <th>75%</th>\n",
       "      <td>48.000000</td>\n",
       "      <td>3.000000</td>\n",
       "      <td>6.000000</td>\n",
       "      <td>75.000000</td>\n",
       "    </tr>\n",
       "    <tr>\n",
       "      <th>max</th>\n",
       "      <td>83.000000</td>\n",
       "      <td>13.000000</td>\n",
       "      <td>21.000000</td>\n",
       "      <td>120.000000</td>\n",
       "    </tr>\n",
       "  </tbody>\n",
       "</table>\n",
       "</div>"
      ],
      "text/plain": [
       "              age    n.enfant   n.fratrie  dur.interv\n",
       "count  797.000000  773.000000  799.000000  749.000000\n",
       "mean    38.899624    1.755498    4.286608   61.891856\n",
       "std     13.280978    1.834044    3.441485   19.669605\n",
       "min     19.000000    0.000000    0.000000    0.000000\n",
       "25%     28.000000    0.000000    2.000000   48.000000\n",
       "50%     37.000000    1.000000    3.000000   60.000000\n",
       "75%     48.000000    3.000000    6.000000   75.000000\n",
       "max     83.000000   13.000000   21.000000  120.000000"
      ]
     },
     "execution_count": 8,
     "metadata": {
      "tags": []
     },
     "output_type": "execute_result"
    }
   ],
   "source": [
    "description = data.loc[:,['age','n.enfant','n.fratrie','dur.interv']].describe()\n",
    "description"
   ]
  },
  {
   "cell_type": "markdown",
   "metadata": {
    "colab_type": "text",
    "id": "3brUupvNWL79"
   },
   "source": [
    "### MOYENNE"
   ]
  },
  {
   "cell_type": "code",
   "execution_count": 9,
   "metadata": {
    "colab": {
     "base_uri": "https://localhost:8080/",
     "height": 107
    },
    "colab_type": "code",
    "executionInfo": {
     "elapsed": 1855,
     "status": "ok",
     "timestamp": 1594737326348,
     "user": {
      "displayName": "Louis Issac Jean Samba DIOUF",
      "photoUrl": "https://lh3.googleusercontent.com/a-/AOh14GhDbQd109018SMPnl6j49HHxZFfO20CmAISQWah=s64",
      "userId": "00842910773125250721"
     },
     "user_tz": 0
    },
    "id": "llgHkQJYOKUH",
    "outputId": "5e861f83-361e-4948-9bdf-2a13878a582d"
   },
   "outputs": [
    {
     "name": "stdout",
     "output_type": "stream",
     "text": [
      "age           38.899624\n",
      "n.enfant       1.755498\n",
      "n.fratrie      4.286608\n",
      "dur.interv    61.891856\n",
      "Name: mean, dtype: float64\n"
     ]
    }
   ],
   "source": [
    "moyennes = description.loc['mean']\n",
    "print(moyennes)"
   ]
  },
  {
   "cell_type": "markdown",
   "metadata": {
    "colab_type": "text",
    "id": "MbY6_xsWWWKm"
   },
   "source": [
    "### VARIANCE"
   ]
  },
  {
   "cell_type": "code",
   "execution_count": 10,
   "metadata": {
    "colab": {
     "base_uri": "https://localhost:8080/",
     "height": 107
    },
    "colab_type": "code",
    "executionInfo": {
     "elapsed": 1851,
     "status": "ok",
     "timestamp": 1594737326349,
     "user": {
      "displayName": "Louis Issac Jean Samba DIOUF",
      "photoUrl": "https://lh3.googleusercontent.com/a-/AOh14GhDbQd109018SMPnl6j49HHxZFfO20CmAISQWah=s64",
      "userId": "00842910773125250721"
     },
     "user_tz": 0
    },
    "id": "GexvMbZ8PiOu",
    "outputId": "8232282c-7e79-4be9-d1df-d964f9bd82b2"
   },
   "outputs": [
    {
     "name": "stdout",
     "output_type": "stream",
     "text": [
      "age           176.384384\n",
      "n.enfant        3.363716\n",
      "n.fratrie      11.843818\n",
      "dur.interv    386.893369\n",
      "Name: std, dtype: float64\n"
     ]
    }
   ],
   "source": [
    "variances = description.loc['std']**2\n",
    "print(variances)"
   ]
  },
  {
   "cell_type": "markdown",
   "metadata": {
    "colab_type": "text",
    "id": "k9ODTZ2RXZY-"
   },
   "source": [
    "### ECART TYPE"
   ]
  },
  {
   "cell_type": "code",
   "execution_count": 11,
   "metadata": {
    "colab": {
     "base_uri": "https://localhost:8080/",
     "height": 107
    },
    "colab_type": "code",
    "executionInfo": {
     "elapsed": 1846,
     "status": "ok",
     "timestamp": 1594737326349,
     "user": {
      "displayName": "Louis Issac Jean Samba DIOUF",
      "photoUrl": "https://lh3.googleusercontent.com/a-/AOh14GhDbQd109018SMPnl6j49HHxZFfO20CmAISQWah=s64",
      "userId": "00842910773125250721"
     },
     "user_tz": 0
    },
    "id": "gZNmwkxSWhkT",
    "outputId": "42ef412e-a103-4d90-a78f-aeff30dad28a"
   },
   "outputs": [
    {
     "name": "stdout",
     "output_type": "stream",
     "text": [
      "age           13.280978\n",
      "n.enfant       1.834044\n",
      "n.fratrie      3.441485\n",
      "dur.interv    19.669605\n",
      "Name: std, dtype: float64\n"
     ]
    }
   ],
   "source": [
    "sigma = description.loc['std']\n",
    "print(sigma)"
   ]
  },
  {
   "cell_type": "markdown",
   "metadata": {
    "colab_type": "text",
    "id": "Nv2TuimuX8kT"
   },
   "source": [
    "### Donner les 3 premiers quantiles pour la variable age."
   ]
  },
  {
   "cell_type": "code",
   "execution_count": 12,
   "metadata": {
    "colab": {
     "base_uri": "https://localhost:8080/",
     "height": 89
    },
    "colab_type": "code",
    "executionInfo": {
     "elapsed": 1841,
     "status": "ok",
     "timestamp": 1594737326350,
     "user": {
      "displayName": "Louis Issac Jean Samba DIOUF",
      "photoUrl": "https://lh3.googleusercontent.com/a-/AOh14GhDbQd109018SMPnl6j49HHxZFfO20CmAISQWah=s64",
      "userId": "00842910773125250721"
     },
     "user_tz": 0
    },
    "id": "FP-MGMoVXm-j",
    "outputId": "d103f26d-ab8b-4311-c96c-3e3e62a88cd5"
   },
   "outputs": [
    {
     "data": {
      "text/plain": [
       "25%    28.0\n",
       "50%    37.0\n",
       "75%    48.0\n",
       "Name: age, dtype: float64"
      ]
     },
     "execution_count": 12,
     "metadata": {
      "tags": []
     },
     "output_type": "execute_result"
    }
   ],
   "source": [
    "quartiles_age = description.loc[['25%','50%','75%'],'age']\n",
    "quartiles_age"
   ]
  },
  {
   "cell_type": "markdown",
   "metadata": {
    "colab_type": "text",
    "id": "41abGXxKZcOp"
   },
   "source": [
    "## **4. Tracer le boxplot pour la variable age. Quelles conclusions en tirez-vous ?**"
   ]
  },
  {
   "cell_type": "code",
   "execution_count": 13,
   "metadata": {
    "colab": {
     "base_uri": "https://localhost:8080/",
     "height": 483
    },
    "colab_type": "code",
    "executionInfo": {
     "elapsed": 1836,
     "status": "ok",
     "timestamp": 1594737326350,
     "user": {
      "displayName": "Louis Issac Jean Samba DIOUF",
      "photoUrl": "https://lh3.googleusercontent.com/a-/AOh14GhDbQd109018SMPnl6j49HHxZFfO20CmAISQWah=s64",
      "userId": "00842910773125250721"
     },
     "user_tz": 0
    },
    "id": "jwQzX75qYRH9",
    "outputId": "41784c9a-0667-4f4a-fd27-19bb62216a40"
   },
   "outputs": [
    {
     "data": {
      "image/png": "[encoded data removed]",
      "text/plain": [
       "<Figure size 720x576 with 1 Axes>"
      ]
     },
     "metadata": {
      "needs_background": "light",
      "tags": []
     },
     "output_type": "display_data"
    }
   ],
   "source": [
    "plt.figure(figsize=(10,8))\n",
    "plt.boxplot(quartiles_age)\n",
    "plt.show()"
   ]
  },
  {
   "cell_type": "markdown",
   "metadata": {
    "colab_type": "text",
    "id": "KnTSvVxlaJNY"
   },
   "source": [
    "### **Conclusion** : La médiane est de 37 ans, 50% de la population a entre 32 et 42 ans"
   ]
  },
  {
   "cell_type": "markdown",
   "metadata": {
    "colab_type": "text",
    "id": "oOro4XCSdKww"
   },
   "source": [
    "## **5. Afficher les données pour les agriculteurs qui ont plus de 2 enfants.**"
   ]
  },
  {
   "cell_type": "code",
   "execution_count": 14,
   "metadata": {
    "colab": {
     "base_uri": "https://localhost:8080/",
     "height": 193
    },
    "colab_type": "code",
    "executionInfo": {
     "elapsed": 1830,
     "status": "ok",
     "timestamp": 1594737326350,
     "user": {
      "displayName": "Louis Issac Jean Samba DIOUF",
      "photoUrl": "https://lh3.googleusercontent.com/a-/AOh14GhDbQd109018SMPnl6j49HHxZFfO20CmAISQWah=s64",
      "userId": "00842910773125250721"
     },
     "user_tz": 0
    },
    "id": "B_cdFeZyY_Uv",
    "outputId": "f9ab3206-6f9e-4adf-adfd-cab1f70dc07e"
   },
   "outputs": [
    {
     "data": {
      "text/html": [
       "<div>\n",
       "<style scoped>\n",
       "    .dataframe tbody tr th:only-of-type {\n",
       "        vertical-align: middle;\n",
       "    }\n",
       "\n",
       "    .dataframe tbody tr th {\n",
       "        vertical-align: top;\n",
       "    }\n",
       "\n",
       "    .dataframe thead th {\n",
       "        text-align: right;\n",
       "    }\n",
       "</style>\n",
       "<table border=\"1\" class=\"dataframe\">\n",
       "  <thead>\n",
       "    <tr style=\"text-align: right;\">\n",
       "      <th></th>\n",
       "      <th>age</th>\n",
       "      <th>prof</th>\n",
       "      <th>duree</th>\n",
       "      <th>discip</th>\n",
       "      <th>n.enfant</th>\n",
       "      <th>n.fratrie</th>\n",
       "      <th>ecole</th>\n",
       "      <th>separation</th>\n",
       "      <th>juge.enfant</th>\n",
       "      <th>place</th>\n",
       "      <th>abus</th>\n",
       "      <th>grav.cons</th>\n",
       "      <th>dep.cons</th>\n",
       "      <th>ago.cons</th>\n",
       "      <th>ptsd.cons</th>\n",
       "      <th>alc.cons</th>\n",
       "      <th>subst.cons</th>\n",
       "      <th>scz.cons</th>\n",
       "      <th>char</th>\n",
       "      <th>rs</th>\n",
       "      <th>ed</th>\n",
       "      <th>dr</th>\n",
       "      <th>suicide.s</th>\n",
       "      <th>suicide.hr</th>\n",
       "      <th>suicide.past</th>\n",
       "      <th>dur.interv</th>\n",
       "    </tr>\n",
       "  </thead>\n",
       "  <tbody>\n",
       "    <tr>\n",
       "      <th>14</th>\n",
       "      <td>64.0</td>\n",
       "      <td>agriculteur</td>\n",
       "      <td>NaN</td>\n",
       "      <td>0.0</td>\n",
       "      <td>3.0</td>\n",
       "      <td>2</td>\n",
       "      <td>1.0</td>\n",
       "      <td>0.0</td>\n",
       "      <td>0.0</td>\n",
       "      <td>0.0</td>\n",
       "      <td>0.0</td>\n",
       "      <td>1.0</td>\n",
       "      <td>0</td>\n",
       "      <td>0</td>\n",
       "      <td>0</td>\n",
       "      <td>0</td>\n",
       "      <td>0</td>\n",
       "      <td>0</td>\n",
       "      <td>1.0</td>\n",
       "      <td>1.0</td>\n",
       "      <td>1.0</td>\n",
       "      <td>3.0</td>\n",
       "      <td>0.0</td>\n",
       "      <td>0.0</td>\n",
       "      <td>0.0</td>\n",
       "      <td>80.0</td>\n",
       "    </tr>\n",
       "    <tr>\n",
       "      <th>311</th>\n",
       "      <td>42.0</td>\n",
       "      <td>agriculteur</td>\n",
       "      <td>4.0</td>\n",
       "      <td>0.0</td>\n",
       "      <td>3.0</td>\n",
       "      <td>6</td>\n",
       "      <td>1.0</td>\n",
       "      <td>0.0</td>\n",
       "      <td>0.0</td>\n",
       "      <td>0.0</td>\n",
       "      <td>0.0</td>\n",
       "      <td>4.0</td>\n",
       "      <td>1</td>\n",
       "      <td>1</td>\n",
       "      <td>0</td>\n",
       "      <td>1</td>\n",
       "      <td>0</td>\n",
       "      <td>0</td>\n",
       "      <td>2.0</td>\n",
       "      <td>1.0</td>\n",
       "      <td>3.0</td>\n",
       "      <td>2.0</td>\n",
       "      <td>3.0</td>\n",
       "      <td>1.0</td>\n",
       "      <td>0.0</td>\n",
       "      <td>NaN</td>\n",
       "    </tr>\n",
       "    <tr>\n",
       "      <th>390</th>\n",
       "      <td>36.0</td>\n",
       "      <td>agriculteur</td>\n",
       "      <td>4.0</td>\n",
       "      <td>1.0</td>\n",
       "      <td>3.0</td>\n",
       "      <td>4</td>\n",
       "      <td>3.0</td>\n",
       "      <td>1.0</td>\n",
       "      <td>1.0</td>\n",
       "      <td>1.0</td>\n",
       "      <td>0.0</td>\n",
       "      <td>2.0</td>\n",
       "      <td>0</td>\n",
       "      <td>0</td>\n",
       "      <td>1</td>\n",
       "      <td>0</td>\n",
       "      <td>1</td>\n",
       "      <td>0</td>\n",
       "      <td>1.0</td>\n",
       "      <td>NaN</td>\n",
       "      <td>3.0</td>\n",
       "      <td>1.0</td>\n",
       "      <td>0.0</td>\n",
       "      <td>0.0</td>\n",
       "      <td>0.0</td>\n",
       "      <td>NaN</td>\n",
       "    </tr>\n",
       "    <tr>\n",
       "      <th>441</th>\n",
       "      <td>79.0</td>\n",
       "      <td>agriculteur</td>\n",
       "      <td>5.0</td>\n",
       "      <td>0.0</td>\n",
       "      <td>5.0</td>\n",
       "      <td>6</td>\n",
       "      <td>2.0</td>\n",
       "      <td>0.0</td>\n",
       "      <td>0.0</td>\n",
       "      <td>0.0</td>\n",
       "      <td>0.0</td>\n",
       "      <td>NaN</td>\n",
       "      <td>0</td>\n",
       "      <td>0</td>\n",
       "      <td>0</td>\n",
       "      <td>0</td>\n",
       "      <td>0</td>\n",
       "      <td>0</td>\n",
       "      <td>1.0</td>\n",
       "      <td>2.0</td>\n",
       "      <td>1.0</td>\n",
       "      <td>1.0</td>\n",
       "      <td>0.0</td>\n",
       "      <td>0.0</td>\n",
       "      <td>0.0</td>\n",
       "      <td>85.0</td>\n",
       "    </tr>\n",
       "  </tbody>\n",
       "</table>\n",
       "</div>"
      ],
      "text/plain": [
       "      age         prof duree  ... suicide.hr  suicide.past  dur.interv\n",
       "14   64.0  agriculteur   NaN  ...        0.0           0.0        80.0\n",
       "311  42.0  agriculteur   4.0  ...        1.0           0.0         NaN\n",
       "390  36.0  agriculteur   4.0  ...        0.0           0.0         NaN\n",
       "441  79.0  agriculteur   5.0  ...        0.0           0.0        85.0\n",
       "\n",
       "[4 rows x 26 columns]"
      ]
     },
     "execution_count": 14,
     "metadata": {
      "tags": []
     },
     "output_type": "execute_result"
    }
   ],
   "source": [
    "agriculteur = data[(data['prof'] == 'agriculteur') & (data['n.enfant']>2)]\n",
    "agriculteur"
   ]
  },
  {
   "cell_type": "code",
   "execution_count": 15,
   "metadata": {
    "colab": {
     "base_uri": "https://localhost:8080/",
     "height": 297
    },
    "colab_type": "code",
    "executionInfo": {
     "elapsed": 1826,
     "status": "ok",
     "timestamp": 1594737326351,
     "user": {
      "displayName": "Louis Issac Jean Samba DIOUF",
      "photoUrl": "https://lh3.googleusercontent.com/a-/AOh14GhDbQd109018SMPnl6j49HHxZFfO20CmAISQWah=s64",
      "userId": "00842910773125250721"
     },
     "user_tz": 0
    },
    "id": "rzUmzXVbc_e8",
    "outputId": "cddf371c-e739-4ff0-e57f-a2a7fe15ab83"
   },
   "outputs": [
    {
     "data": {
      "text/html": [
       "<div>\n",
       "<style scoped>\n",
       "    .dataframe tbody tr th:only-of-type {\n",
       "        vertical-align: middle;\n",
       "    }\n",
       "\n",
       "    .dataframe tbody tr th {\n",
       "        vertical-align: top;\n",
       "    }\n",
       "\n",
       "    .dataframe thead th {\n",
       "        text-align: right;\n",
       "    }\n",
       "</style>\n",
       "<table border=\"1\" class=\"dataframe\">\n",
       "  <thead>\n",
       "    <tr style=\"text-align: right;\">\n",
       "      <th></th>\n",
       "      <th>age</th>\n",
       "      <th>n.enfant</th>\n",
       "      <th>n.fratrie</th>\n",
       "      <th>dur.interv</th>\n",
       "    </tr>\n",
       "  </thead>\n",
       "  <tbody>\n",
       "    <tr>\n",
       "      <th>count</th>\n",
       "      <td>4.000000</td>\n",
       "      <td>4.0</td>\n",
       "      <td>4.000000</td>\n",
       "      <td>2.000000</td>\n",
       "    </tr>\n",
       "    <tr>\n",
       "      <th>mean</th>\n",
       "      <td>55.250000</td>\n",
       "      <td>3.5</td>\n",
       "      <td>4.500000</td>\n",
       "      <td>82.500000</td>\n",
       "    </tr>\n",
       "    <tr>\n",
       "      <th>std</th>\n",
       "      <td>19.889277</td>\n",
       "      <td>1.0</td>\n",
       "      <td>1.914854</td>\n",
       "      <td>3.535534</td>\n",
       "    </tr>\n",
       "    <tr>\n",
       "      <th>min</th>\n",
       "      <td>36.000000</td>\n",
       "      <td>3.0</td>\n",
       "      <td>2.000000</td>\n",
       "      <td>80.000000</td>\n",
       "    </tr>\n",
       "    <tr>\n",
       "      <th>25%</th>\n",
       "      <td>40.500000</td>\n",
       "      <td>3.0</td>\n",
       "      <td>3.500000</td>\n",
       "      <td>81.250000</td>\n",
       "    </tr>\n",
       "    <tr>\n",
       "      <th>50%</th>\n",
       "      <td>53.000000</td>\n",
       "      <td>3.0</td>\n",
       "      <td>5.000000</td>\n",
       "      <td>82.500000</td>\n",
       "    </tr>\n",
       "    <tr>\n",
       "      <th>75%</th>\n",
       "      <td>67.750000</td>\n",
       "      <td>3.5</td>\n",
       "      <td>6.000000</td>\n",
       "      <td>83.750000</td>\n",
       "    </tr>\n",
       "    <tr>\n",
       "      <th>max</th>\n",
       "      <td>79.000000</td>\n",
       "      <td>5.0</td>\n",
       "      <td>6.000000</td>\n",
       "      <td>85.000000</td>\n",
       "    </tr>\n",
       "  </tbody>\n",
       "</table>\n",
       "</div>"
      ],
      "text/plain": [
       "             age  n.enfant  n.fratrie  dur.interv\n",
       "count   4.000000       4.0   4.000000    2.000000\n",
       "mean   55.250000       3.5   4.500000   82.500000\n",
       "std    19.889277       1.0   1.914854    3.535534\n",
       "min    36.000000       3.0   2.000000   80.000000\n",
       "25%    40.500000       3.0   3.500000   81.250000\n",
       "50%    53.000000       3.0   5.000000   82.500000\n",
       "75%    67.750000       3.5   6.000000   83.750000\n",
       "max    79.000000       5.0   6.000000   85.000000"
      ]
     },
     "execution_count": 15,
     "metadata": {
      "tags": []
     },
     "output_type": "execute_result"
    }
   ],
   "source": [
    "description_agri = agriculteur.loc[:,['age','n.enfant','n.fratrie','dur.interv']].describe()\n",
    "description_agri"
   ]
  },
  {
   "cell_type": "markdown",
   "metadata": {
    "colab_type": "text",
    "id": "NROls4PyfIy6"
   },
   "source": [
    "### MOYENNE POUR LES AGRICULTEURS"
   ]
  },
  {
   "cell_type": "code",
   "execution_count": 16,
   "metadata": {
    "colab": {
     "base_uri": "https://localhost:8080/",
     "height": 107
    },
    "colab_type": "code",
    "executionInfo": {
     "elapsed": 2192,
     "status": "ok",
     "timestamp": 1594737326722,
     "user": {
      "displayName": "Louis Issac Jean Samba DIOUF",
      "photoUrl": "https://lh3.googleusercontent.com/a-/AOh14GhDbQd109018SMPnl6j49HHxZFfO20CmAISQWah=s64",
      "userId": "00842910773125250721"
     },
     "user_tz": 0
    },
    "id": "PYaYLemkfIy7",
    "outputId": "e061e596-23a0-498f-9b6e-05b500f160a2"
   },
   "outputs": [
    {
     "name": "stdout",
     "output_type": "stream",
     "text": [
      "age           55.25\n",
      "n.enfant       3.50\n",
      "n.fratrie      4.50\n",
      "dur.interv    82.50\n",
      "Name: mean, dtype: float64\n"
     ]
    }
   ],
   "source": [
    "moyennes_agri = description_agri.loc['mean']\n",
    "print(moyennes_agri)"
   ]
  },
  {
   "cell_type": "markdown",
   "metadata": {
    "colab_type": "text",
    "id": "xfPUJ0vZfIy_"
   },
   "source": [
    "### VARIANCE POUR LES AGRICULTEURS"
   ]
  },
  {
   "cell_type": "code",
   "execution_count": 17,
   "metadata": {
    "colab": {
     "base_uri": "https://localhost:8080/",
     "height": 107
    },
    "colab_type": "code",
    "executionInfo": {
     "elapsed": 2186,
     "status": "ok",
     "timestamp": 1594737326723,
     "user": {
      "displayName": "Louis Issac Jean Samba DIOUF",
      "photoUrl": "https://lh3.googleusercontent.com/a-/AOh14GhDbQd109018SMPnl6j49HHxZFfO20CmAISQWah=s64",
      "userId": "00842910773125250721"
     },
     "user_tz": 0
    },
    "id": "V84gosXAfIy_",
    "outputId": "40f8c288-764a-4545-d94c-9c3d2a411309"
   },
   "outputs": [
    {
     "name": "stdout",
     "output_type": "stream",
     "text": [
      "age           395.583333\n",
      "n.enfant        1.000000\n",
      "n.fratrie       3.666667\n",
      "dur.interv     12.500000\n",
      "Name: std, dtype: float64\n"
     ]
    }
   ],
   "source": [
    "variances_agri = description_agri.loc['std']**2\n",
    "print(variances_agri)"
   ]
  },
  {
   "cell_type": "markdown",
   "metadata": {
    "colab_type": "text",
    "id": "92ZZQwUKfIzC"
   },
   "source": [
    "### ECART TYPE POUR LES AGRICULTEURS"
   ]
  },
  {
   "cell_type": "code",
   "execution_count": 18,
   "metadata": {
    "colab": {
     "base_uri": "https://localhost:8080/",
     "height": 107
    },
    "colab_type": "code",
    "executionInfo": {
     "elapsed": 2178,
     "status": "ok",
     "timestamp": 1594737326724,
     "user": {
      "displayName": "Louis Issac Jean Samba DIOUF",
      "photoUrl": "https://lh3.googleusercontent.com/a-/AOh14GhDbQd109018SMPnl6j49HHxZFfO20CmAISQWah=s64",
      "userId": "00842910773125250721"
     },
     "user_tz": 0
    },
    "id": "G8QFvRX0fIzD",
    "outputId": "d4083359-258b-4f32-d227-ebeb6c2bad00"
   },
   "outputs": [
    {
     "name": "stdout",
     "output_type": "stream",
     "text": [
      "age           19.889277\n",
      "n.enfant       1.000000\n",
      "n.fratrie      1.914854\n",
      "dur.interv     3.535534\n",
      "Name: std, dtype: float64\n"
     ]
    }
   ],
   "source": [
    "sigma_agri = description_agri.loc['std']\n",
    "print(sigma_agri)"
   ]
  },
  {
   "cell_type": "markdown",
   "metadata": {
    "colab_type": "text",
    "id": "LACS4Cr_fIzF"
   },
   "source": [
    "### Les 3 premiers quantiles pour la variable age pour les agriculteurs"
   ]
  },
  {
   "cell_type": "code",
   "execution_count": 19,
   "metadata": {
    "colab": {
     "base_uri": "https://localhost:8080/",
     "height": 89
    },
    "colab_type": "code",
    "executionInfo": {
     "elapsed": 2171,
     "status": "ok",
     "timestamp": 1594737326724,
     "user": {
      "displayName": "Louis Issac Jean Samba DIOUF",
      "photoUrl": "https://lh3.googleusercontent.com/a-/AOh14GhDbQd109018SMPnl6j49HHxZFfO20CmAISQWah=s64",
      "userId": "00842910773125250721"
     },
     "user_tz": 0
    },
    "id": "a9CmG-sgfIzF",
    "outputId": "e9778dfd-d6c8-432b-deeb-496b961146a7"
   },
   "outputs": [
    {
     "data": {
      "text/plain": [
       "25%    40.50\n",
       "50%    53.00\n",
       "75%    67.75\n",
       "Name: age, dtype: float64"
      ]
     },
     "execution_count": 19,
     "metadata": {
      "tags": []
     },
     "output_type": "execute_result"
    }
   ],
   "source": [
    "quartiles_age_agri = description_agri.loc[['25%','50%','75%'],'age']\n",
    "quartiles_age_agri"
   ]
  },
  {
   "cell_type": "markdown",
   "metadata": {
    "colab_type": "text",
    "id": "-dd_jwUUfXtl"
   },
   "source": [
    "### BOXPLOT POUR LES AGRIGULTEUR"
   ]
  },
  {
   "cell_type": "code",
   "execution_count": 20,
   "metadata": {
    "colab": {
     "base_uri": "https://localhost:8080/",
     "height": 483
    },
    "colab_type": "code",
    "executionInfo": {
     "elapsed": 2167,
     "status": "ok",
     "timestamp": 1594737326726,
     "user": {
      "displayName": "Louis Issac Jean Samba DIOUF",
      "photoUrl": "https://lh3.googleusercontent.com/a-/AOh14GhDbQd109018SMPnl6j49HHxZFfO20CmAISQWah=s64",
      "userId": "00842910773125250721"
     },
     "user_tz": 0
    },
    "id": "KdzvWw26fIzI",
    "outputId": "040bde07-f101-45a7-8ee3-376992c6de3f"
   },
   "outputs": [
    {
     "data": {
      "image/png": "[encoded data removed]",
      "text/plain": [
       "<Figure size 720x576 with 1 Axes>"
      ]
     },
     "metadata": {
      "needs_background": "light",
      "tags": []
     },
     "output_type": "display_data"
    }
   ],
   "source": [
    "plt.figure(figsize=(10,8))\n",
    "plt.boxplot(quartiles_age_agri)\n",
    "plt.show()"
   ]
  },
  {
   "cell_type": "markdown",
   "metadata": {
    "colab_type": "text",
    "id": "jnjjUmGygHS5"
   },
   "source": [
    "### **Conclusion** : La médiane est de 53 ans, 50% de la population a entre 47 et 60 ans"
   ]
  },
  {
   "cell_type": "markdown",
   "metadata": {
    "colab_type": "text",
    "id": "YvR8630xhXlP"
   },
   "source": [
    "## **6. Calculer les fréquences des modalités de la variable prof. Quelle est la catégorie modale ?**"
   ]
  },
  {
   "cell_type": "code",
   "execution_count": 21,
   "metadata": {
    "colab": {
     "base_uri": "https://localhost:8080/",
     "height": 161
    },
    "colab_type": "code",
    "executionInfo": {
     "elapsed": 2161,
     "status": "ok",
     "timestamp": 1594737326727,
     "user": {
      "displayName": "Louis Issac Jean Samba DIOUF",
      "photoUrl": "https://lh3.googleusercontent.com/a-/AOh14GhDbQd109018SMPnl6j49HHxZFfO20CmAISQWah=s64",
      "userId": "00842910773125250721"
     },
     "user_tz": 0
    },
    "id": "ZQEX8qnwlPP9",
    "outputId": "c824fdd8-8a40-4108-e396-1f1969777e39"
   },
   "outputs": [
    {
     "data": {
      "text/plain": [
       "0                 autre\n",
       "1                   NaN\n",
       "2    prof.intermediaire\n",
       "3               ouvrier\n",
       "4           sans emploi\n",
       "Name: prof, dtype: category\n",
       "Categories (8, object): [agriculteur, artisan, autre, cadre, employe, ouvrier, prof.intermediaire,\n",
       "                         sans emploi]"
      ]
     },
     "execution_count": 21,
     "metadata": {
      "tags": []
     },
     "output_type": "execute_result"
    }
   ],
   "source": [
    "profession = data['prof']\n",
    "profession.head()"
   ]
  },
  {
   "cell_type": "code",
   "execution_count": 22,
   "metadata": {
    "colab": {
     "base_uri": "https://localhost:8080/",
     "height": 179
    },
    "colab_type": "code",
    "executionInfo": {
     "elapsed": 2154,
     "status": "ok",
     "timestamp": 1594737326727,
     "user": {
      "displayName": "Louis Issac Jean Samba DIOUF",
      "photoUrl": "https://lh3.googleusercontent.com/a-/AOh14GhDbQd109018SMPnl6j49HHxZFfO20CmAISQWah=s64",
      "userId": "00842910773125250721"
     },
     "user_tz": 0
    },
    "id": "vkBIm0cZia8a",
    "outputId": "326d9620-aa68-4105-d1f5-3a95f9306a38"
   },
   "outputs": [
    {
     "data": {
      "text/plain": [
       "ouvrier               0.286255\n",
       "sans emploi           0.279950\n",
       "employe               0.170240\n",
       "artisan               0.113493\n",
       "prof.intermediaire    0.073140\n",
       "autre                 0.039092\n",
       "cadre                 0.030265\n",
       "agriculteur           0.007566\n",
       "Name: prof, dtype: float64"
      ]
     },
     "execution_count": 22,
     "metadata": {
      "tags": []
     },
     "output_type": "execute_result"
    }
   ],
   "source": [
    "frequences = profession.value_counts() / profession.value_counts().sum()\n",
    "frequences"
   ]
  },
  {
   "cell_type": "markdown",
   "metadata": {
    "colab_type": "text",
    "id": "BQ-nIXl0pvyI"
   },
   "source": [
    "### CATEGORIE MODALE"
   ]
  },
  {
   "cell_type": "code",
   "execution_count": 23,
   "metadata": {
    "colab": {
     "base_uri": "https://localhost:8080/",
     "height": 35
    },
    "colab_type": "code",
    "executionInfo": {
     "elapsed": 2149,
     "status": "ok",
     "timestamp": 1594737326728,
     "user": {
      "displayName": "Louis Issac Jean Samba DIOUF",
      "photoUrl": "https://lh3.googleusercontent.com/a-/AOh14GhDbQd109018SMPnl6j49HHxZFfO20CmAISQWah=s64",
      "userId": "00842910773125250721"
     },
     "user_tz": 0
    },
    "id": "T5_WWeJflYxP",
    "outputId": "a0928a5f-8acc-469c-8dab-7939194cd318"
   },
   "outputs": [
    {
     "name": "stdout",
     "output_type": "stream",
     "text": [
      "ouvrier\n"
     ]
    }
   ],
   "source": [
    "categorie_modale = profession.mode()[0]\n",
    "print(categorie_modale)"
   ]
  },
  {
   "cell_type": "markdown",
   "metadata": {
    "colab_type": "text",
    "id": "OjkCMBv8qzvw"
   },
   "source": [
    "## 7. Tracer le diagramme circulaire de la variable profession"
   ]
  },
  {
   "cell_type": "code",
   "execution_count": 24,
   "metadata": {
    "colab": {
     "base_uri": "https://localhost:8080/",
     "height": 575
    },
    "colab_type": "code",
    "executionInfo": {
     "elapsed": 2508,
     "status": "ok",
     "timestamp": 1594737327093,
     "user": {
      "displayName": "Louis Issac Jean Samba DIOUF",
      "photoUrl": "https://lh3.googleusercontent.com/a-/AOh14GhDbQd109018SMPnl6j49HHxZFfO20CmAISQWah=s64",
      "userId": "00842910773125250721"
     },
     "user_tz": 0
    },
    "id": "m4HBwjRjoKk9",
    "outputId": "d40e88c2-ec11-46b4-b4f1-fb3977de6092"
   },
   "outputs": [
    {
     "data": {
      "image/png": "[encoded data removed]",
      "text/plain": [
       "<Figure size 720x720 with 1 Axes>"
      ]
     },
     "metadata": {
      "tags": []
     },
     "output_type": "display_data"
    }
   ],
   "source": [
    "plt.figure(figsize=(10,10))\n",
    "plt.pie(profession.value_counts())\n",
    "plt.legend(list(frequences.index))\n",
    "plt.show()"
   ]
  },
  {
   "cell_type": "markdown",
   "metadata": {
    "colab_type": "text",
    "id": "Tbp1DH76uw-9"
   },
   "source": [
    "## **8. Donner les moyennes des âges par profession**"
   ]
  },
  {
   "cell_type": "code",
   "execution_count": 25,
   "metadata": {
    "colab": {
     "base_uri": "https://localhost:8080/",
     "height": 197
    },
    "colab_type": "code",
    "executionInfo": {
     "elapsed": 2502,
     "status": "ok",
     "timestamp": 1594737327094,
     "user": {
      "displayName": "Louis Issac Jean Samba DIOUF",
      "photoUrl": "https://lh3.googleusercontent.com/a-/AOh14GhDbQd109018SMPnl6j49HHxZFfO20CmAISQWah=s64",
      "userId": "00842910773125250721"
     },
     "user_tz": 0
    },
    "id": "uqjJaBtLrmVM",
    "outputId": "107e9664-3c43-44b3-a761-af226dfcaa0c"
   },
   "outputs": [
    {
     "data": {
      "text/plain": [
       "prof\n",
       "agriculteur           48.833333\n",
       "artisan               45.111111\n",
       "autre                 34.935484\n",
       "cadre                 50.083333\n",
       "employe               38.711111\n",
       "ouvrier               37.396476\n",
       "prof.intermediaire    43.258621\n",
       "sans emploi           35.896396\n",
       "Name: age, dtype: float64"
      ]
     },
     "execution_count": 25,
     "metadata": {
      "tags": []
     },
     "output_type": "execute_result"
    }
   ],
   "source": [
    "data.groupby('prof').mean()['age']"
   ]
  },
  {
   "cell_type": "markdown",
   "metadata": {
    "colab_type": "text",
    "id": "pHc_TuL7xn61"
   },
   "source": [
    "## **9. Donner la table des effectifs pour les variables prof incluant les ”NaN”.**"
   ]
  },
  {
   "cell_type": "code",
   "execution_count": 35,
   "metadata": {
    "colab": {
     "base_uri": "https://localhost:8080/",
     "height": 197
    },
    "colab_type": "code",
    "executionInfo": {
     "elapsed": 759,
     "status": "ok",
     "timestamp": 1594741062494,
     "user": {
      "displayName": "Louis Issac Jean Samba DIOUF",
      "photoUrl": "https://lh3.googleusercontent.com/a-/AOh14GhDbQd109018SMPnl6j49HHxZFfO20CmAISQWah=s64",
      "userId": "00842910773125250721"
     },
     "user_tz": 0
    },
    "id": "gedV3H2xywat",
    "outputId": "d052091b-c3d1-455c-c00d-deb702ca1c17"
   },
   "outputs": [
    {
     "data": {
      "text/plain": [
       "ouvrier               227\n",
       "sans emploi           222\n",
       "employe               135\n",
       "artisan                90\n",
       "prof.intermediaire     58\n",
       "autre                  31\n",
       "cadre                  24\n",
       "NaN                     6\n",
       "agriculteur             6\n",
       "Name: prof, dtype: int64"
      ]
     },
     "execution_count": 35,
     "metadata": {
      "tags": []
     },
     "output_type": "execute_result"
    }
   ],
   "source": [
    "profession.value_counts(dropna=False)"
   ]
  },
  {
   "cell_type": "markdown",
   "metadata": {
    "colab_type": "text",
    "id": "FtbmkrHf-mYZ"
   },
   "source": [
    "## **10. Donner le nombre de ”Nan” pour chaque variable.**"
   ]
  },
  {
   "cell_type": "code",
   "execution_count": 36,
   "metadata": {
    "colab": {
     "base_uri": "https://localhost:8080/",
     "height": 503
    },
    "colab_type": "code",
    "executionInfo": {
     "elapsed": 895,
     "status": "ok",
     "timestamp": 1594741254519,
     "user": {
      "displayName": "Louis Issac Jean Samba DIOUF",
      "photoUrl": "https://lh3.googleusercontent.com/a-/AOh14GhDbQd109018SMPnl6j49HHxZFfO20CmAISQWah=s64",
      "userId": "00842910773125250721"
     },
     "user_tz": 0
    },
    "id": "SGSJ44iC-XgM",
    "outputId": "bf86c58c-a27b-452a-f5fd-3ecd99d4d78a"
   },
   "outputs": [
    {
     "data": {
      "text/plain": [
       "age               2\n",
       "prof              6\n",
       "duree           223\n",
       "discip            6\n",
       "n.enfant         26\n",
       "n.fratrie         0\n",
       "ecole             5\n",
       "separation       11\n",
       "juge.enfant       5\n",
       "place             7\n",
       "abus              7\n",
       "grav.cons         4\n",
       "dep.cons          0\n",
       "ago.cons          0\n",
       "ptsd.cons         0\n",
       "alc.cons          0\n",
       "subst.cons        0\n",
       "scz.cons          0\n",
       "char             96\n",
       "rs              103\n",
       "ed              107\n",
       "dr              111\n",
       "suicide.s        41\n",
       "suicide.hr       39\n",
       "suicide.past     14\n",
       "dur.interv       50\n",
       "dtype: int64"
      ]
     },
     "execution_count": 36,
     "metadata": {
      "tags": []
     },
     "output_type": "execute_result"
    }
   ],
   "source": [
    "data.isna().sum()"
   ]
  },
  {
   "cell_type": "markdown",
   "metadata": {
    "colab_type": "text",
    "id": "fY-1uCUM_Niq"
   },
   "source": [
    "## **11. Supprimer toutes les lignes contenant des ”Nan”.**"
   ]
  },
  {
   "cell_type": "code",
   "execution_count": 39,
   "metadata": {
    "colab": {
     "base_uri": "https://localhost:8080/",
     "height": 439
    },
    "colab_type": "code",
    "executionInfo": {
     "elapsed": 1409,
     "status": "ok",
     "timestamp": 1594741344947,
     "user": {
      "displayName": "Louis Issac Jean Samba DIOUF",
      "photoUrl": "https://lh3.googleusercontent.com/a-/AOh14GhDbQd109018SMPnl6j49HHxZFfO20CmAISQWah=s64",
      "userId": "00842910773125250721"
     },
     "user_tz": 0
    },
    "id": "UJbYFK4r_GXG",
    "outputId": "6871f33b-420c-4641-dfc4-a34587106e8c"
   },
   "outputs": [
    {
     "data": {
      "text/html": [
       "<div>\n",
       "<style scoped>\n",
       "    .dataframe tbody tr th:only-of-type {\n",
       "        vertical-align: middle;\n",
       "    }\n",
       "\n",
       "    .dataframe tbody tr th {\n",
       "        vertical-align: top;\n",
       "    }\n",
       "\n",
       "    .dataframe thead th {\n",
       "        text-align: right;\n",
       "    }\n",
       "</style>\n",
       "<table border=\"1\" class=\"dataframe\">\n",
       "  <thead>\n",
       "    <tr style=\"text-align: right;\">\n",
       "      <th></th>\n",
       "      <th>age</th>\n",
       "      <th>prof</th>\n",
       "      <th>duree</th>\n",
       "      <th>discip</th>\n",
       "      <th>n.enfant</th>\n",
       "      <th>n.fratrie</th>\n",
       "      <th>ecole</th>\n",
       "      <th>separation</th>\n",
       "      <th>juge.enfant</th>\n",
       "      <th>place</th>\n",
       "      <th>abus</th>\n",
       "      <th>grav.cons</th>\n",
       "      <th>dep.cons</th>\n",
       "      <th>ago.cons</th>\n",
       "      <th>ptsd.cons</th>\n",
       "      <th>alc.cons</th>\n",
       "      <th>subst.cons</th>\n",
       "      <th>scz.cons</th>\n",
       "      <th>char</th>\n",
       "      <th>rs</th>\n",
       "      <th>ed</th>\n",
       "      <th>dr</th>\n",
       "      <th>suicide.s</th>\n",
       "      <th>suicide.hr</th>\n",
       "      <th>suicide.past</th>\n",
       "      <th>dur.interv</th>\n",
       "    </tr>\n",
       "  </thead>\n",
       "  <tbody>\n",
       "    <tr>\n",
       "      <th>7</th>\n",
       "      <td>52.0</td>\n",
       "      <td>artisan</td>\n",
       "      <td>5.0</td>\n",
       "      <td>0.0</td>\n",
       "      <td>2.0</td>\n",
       "      <td>9</td>\n",
       "      <td>2.0</td>\n",
       "      <td>0.0</td>\n",
       "      <td>0.0</td>\n",
       "      <td>0.0</td>\n",
       "      <td>0.0</td>\n",
       "      <td>1.0</td>\n",
       "      <td>0</td>\n",
       "      <td>0</td>\n",
       "      <td>0</td>\n",
       "      <td>0</td>\n",
       "      <td>0</td>\n",
       "      <td>0</td>\n",
       "      <td>1.0</td>\n",
       "      <td>2.0</td>\n",
       "      <td>2.0</td>\n",
       "      <td>2.0</td>\n",
       "      <td>0.0</td>\n",
       "      <td>0.0</td>\n",
       "      <td>0.0</td>\n",
       "      <td>84.0</td>\n",
       "    </tr>\n",
       "    <tr>\n",
       "      <th>8</th>\n",
       "      <td>42.0</td>\n",
       "      <td>ouvrier</td>\n",
       "      <td>4.0</td>\n",
       "      <td>1.0</td>\n",
       "      <td>1.0</td>\n",
       "      <td>12</td>\n",
       "      <td>1.0</td>\n",
       "      <td>1.0</td>\n",
       "      <td>1.0</td>\n",
       "      <td>0.0</td>\n",
       "      <td>1.0</td>\n",
       "      <td>5.0</td>\n",
       "      <td>1</td>\n",
       "      <td>0</td>\n",
       "      <td>0</td>\n",
       "      <td>1</td>\n",
       "      <td>1</td>\n",
       "      <td>0</td>\n",
       "      <td>4.0</td>\n",
       "      <td>3.0</td>\n",
       "      <td>3.0</td>\n",
       "      <td>1.0</td>\n",
       "      <td>4.0</td>\n",
       "      <td>1.0</td>\n",
       "      <td>1.0</td>\n",
       "      <td>78.0</td>\n",
       "    </tr>\n",
       "    <tr>\n",
       "      <th>12</th>\n",
       "      <td>21.0</td>\n",
       "      <td>employe</td>\n",
       "      <td>4.0</td>\n",
       "      <td>0.0</td>\n",
       "      <td>0.0</td>\n",
       "      <td>3</td>\n",
       "      <td>2.0</td>\n",
       "      <td>1.0</td>\n",
       "      <td>1.0</td>\n",
       "      <td>1.0</td>\n",
       "      <td>0.0</td>\n",
       "      <td>3.0</td>\n",
       "      <td>0</td>\n",
       "      <td>0</td>\n",
       "      <td>0</td>\n",
       "      <td>1</td>\n",
       "      <td>1</td>\n",
       "      <td>0</td>\n",
       "      <td>1.0</td>\n",
       "      <td>2.0</td>\n",
       "      <td>2.0</td>\n",
       "      <td>2.0</td>\n",
       "      <td>0.0</td>\n",
       "      <td>0.0</td>\n",
       "      <td>0.0</td>\n",
       "      <td>95.0</td>\n",
       "    </tr>\n",
       "    <tr>\n",
       "      <th>13</th>\n",
       "      <td>40.0</td>\n",
       "      <td>artisan</td>\n",
       "      <td>4.0</td>\n",
       "      <td>0.0</td>\n",
       "      <td>3.0</td>\n",
       "      <td>5</td>\n",
       "      <td>1.0</td>\n",
       "      <td>0.0</td>\n",
       "      <td>1.0</td>\n",
       "      <td>0.0</td>\n",
       "      <td>0.0</td>\n",
       "      <td>3.0</td>\n",
       "      <td>1</td>\n",
       "      <td>0</td>\n",
       "      <td>0</td>\n",
       "      <td>1</td>\n",
       "      <td>0</td>\n",
       "      <td>0</td>\n",
       "      <td>1.0</td>\n",
       "      <td>2.0</td>\n",
       "      <td>2.0</td>\n",
       "      <td>2.0</td>\n",
       "      <td>0.0</td>\n",
       "      <td>0.0</td>\n",
       "      <td>1.0</td>\n",
       "      <td>90.0</td>\n",
       "    </tr>\n",
       "    <tr>\n",
       "      <th>16</th>\n",
       "      <td>60.0</td>\n",
       "      <td>prof.intermediaire</td>\n",
       "      <td>5.0</td>\n",
       "      <td>0.0</td>\n",
       "      <td>2.0</td>\n",
       "      <td>4</td>\n",
       "      <td>2.0</td>\n",
       "      <td>1.0</td>\n",
       "      <td>0.0</td>\n",
       "      <td>1.0</td>\n",
       "      <td>1.0</td>\n",
       "      <td>3.0</td>\n",
       "      <td>0</td>\n",
       "      <td>0</td>\n",
       "      <td>0</td>\n",
       "      <td>0</td>\n",
       "      <td>0</td>\n",
       "      <td>0</td>\n",
       "      <td>1.0</td>\n",
       "      <td>1.0</td>\n",
       "      <td>2.0</td>\n",
       "      <td>3.0</td>\n",
       "      <td>0.0</td>\n",
       "      <td>0.0</td>\n",
       "      <td>0.0</td>\n",
       "      <td>90.0</td>\n",
       "    </tr>\n",
       "    <tr>\n",
       "      <th>...</th>\n",
       "      <td>...</td>\n",
       "      <td>...</td>\n",
       "      <td>...</td>\n",
       "      <td>...</td>\n",
       "      <td>...</td>\n",
       "      <td>...</td>\n",
       "      <td>...</td>\n",
       "      <td>...</td>\n",
       "      <td>...</td>\n",
       "      <td>...</td>\n",
       "      <td>...</td>\n",
       "      <td>...</td>\n",
       "      <td>...</td>\n",
       "      <td>...</td>\n",
       "      <td>...</td>\n",
       "      <td>...</td>\n",
       "      <td>...</td>\n",
       "      <td>...</td>\n",
       "      <td>...</td>\n",
       "      <td>...</td>\n",
       "      <td>...</td>\n",
       "      <td>...</td>\n",
       "      <td>...</td>\n",
       "      <td>...</td>\n",
       "      <td>...</td>\n",
       "      <td>...</td>\n",
       "    </tr>\n",
       "    <tr>\n",
       "      <th>793</th>\n",
       "      <td>27.0</td>\n",
       "      <td>prof.intermediaire</td>\n",
       "      <td>4.0</td>\n",
       "      <td>0.0</td>\n",
       "      <td>2.0</td>\n",
       "      <td>0</td>\n",
       "      <td>2.0</td>\n",
       "      <td>1.0</td>\n",
       "      <td>0.0</td>\n",
       "      <td>1.0</td>\n",
       "      <td>1.0</td>\n",
       "      <td>4.0</td>\n",
       "      <td>1</td>\n",
       "      <td>0</td>\n",
       "      <td>0</td>\n",
       "      <td>0</td>\n",
       "      <td>0</td>\n",
       "      <td>0</td>\n",
       "      <td>1.0</td>\n",
       "      <td>3.0</td>\n",
       "      <td>1.0</td>\n",
       "      <td>1.0</td>\n",
       "      <td>0.0</td>\n",
       "      <td>0.0</td>\n",
       "      <td>0.0</td>\n",
       "      <td>60.0</td>\n",
       "    </tr>\n",
       "    <tr>\n",
       "      <th>795</th>\n",
       "      <td>44.0</td>\n",
       "      <td>ouvrier</td>\n",
       "      <td>4.0</td>\n",
       "      <td>1.0</td>\n",
       "      <td>1.0</td>\n",
       "      <td>12</td>\n",
       "      <td>2.0</td>\n",
       "      <td>0.0</td>\n",
       "      <td>0.0</td>\n",
       "      <td>0.0</td>\n",
       "      <td>0.0</td>\n",
       "      <td>5.0</td>\n",
       "      <td>1</td>\n",
       "      <td>0</td>\n",
       "      <td>1</td>\n",
       "      <td>0</td>\n",
       "      <td>0</td>\n",
       "      <td>0</td>\n",
       "      <td>1.0</td>\n",
       "      <td>1.0</td>\n",
       "      <td>1.0</td>\n",
       "      <td>1.0</td>\n",
       "      <td>0.0</td>\n",
       "      <td>0.0</td>\n",
       "      <td>1.0</td>\n",
       "      <td>105.0</td>\n",
       "    </tr>\n",
       "    <tr>\n",
       "      <th>796</th>\n",
       "      <td>31.0</td>\n",
       "      <td>cadre</td>\n",
       "      <td>4.0</td>\n",
       "      <td>0.0</td>\n",
       "      <td>3.0</td>\n",
       "      <td>6</td>\n",
       "      <td>4.0</td>\n",
       "      <td>1.0</td>\n",
       "      <td>1.0</td>\n",
       "      <td>1.0</td>\n",
       "      <td>0.0</td>\n",
       "      <td>3.0</td>\n",
       "      <td>1</td>\n",
       "      <td>0</td>\n",
       "      <td>0</td>\n",
       "      <td>0</td>\n",
       "      <td>1</td>\n",
       "      <td>0</td>\n",
       "      <td>2.0</td>\n",
       "      <td>1.0</td>\n",
       "      <td>1.0</td>\n",
       "      <td>1.0</td>\n",
       "      <td>1.0</td>\n",
       "      <td>0.0</td>\n",
       "      <td>0.0</td>\n",
       "      <td>105.0</td>\n",
       "    </tr>\n",
       "    <tr>\n",
       "      <th>797</th>\n",
       "      <td>38.0</td>\n",
       "      <td>employe</td>\n",
       "      <td>5.0</td>\n",
       "      <td>0.0</td>\n",
       "      <td>0.0</td>\n",
       "      <td>1</td>\n",
       "      <td>3.0</td>\n",
       "      <td>0.0</td>\n",
       "      <td>0.0</td>\n",
       "      <td>0.0</td>\n",
       "      <td>0.0</td>\n",
       "      <td>7.0</td>\n",
       "      <td>0</td>\n",
       "      <td>0</td>\n",
       "      <td>0</td>\n",
       "      <td>0</td>\n",
       "      <td>0</td>\n",
       "      <td>0</td>\n",
       "      <td>1.0</td>\n",
       "      <td>1.0</td>\n",
       "      <td>1.0</td>\n",
       "      <td>1.0</td>\n",
       "      <td>0.0</td>\n",
       "      <td>0.0</td>\n",
       "      <td>0.0</td>\n",
       "      <td>75.0</td>\n",
       "    </tr>\n",
       "    <tr>\n",
       "      <th>798</th>\n",
       "      <td>71.0</td>\n",
       "      <td>autre</td>\n",
       "      <td>4.0</td>\n",
       "      <td>0.0</td>\n",
       "      <td>2.0</td>\n",
       "      <td>4</td>\n",
       "      <td>1.0</td>\n",
       "      <td>1.0</td>\n",
       "      <td>0.0</td>\n",
       "      <td>0.0</td>\n",
       "      <td>1.0</td>\n",
       "      <td>2.0</td>\n",
       "      <td>0</td>\n",
       "      <td>0</td>\n",
       "      <td>0</td>\n",
       "      <td>0</td>\n",
       "      <td>0</td>\n",
       "      <td>0</td>\n",
       "      <td>1.0</td>\n",
       "      <td>1.0</td>\n",
       "      <td>1.0</td>\n",
       "      <td>1.0</td>\n",
       "      <td>0.0</td>\n",
       "      <td>0.0</td>\n",
       "      <td>0.0</td>\n",
       "      <td>45.0</td>\n",
       "    </tr>\n",
       "  </tbody>\n",
       "</table>\n",
       "<p>403 rows × 26 columns</p>\n",
       "</div>"
      ],
      "text/plain": [
       "      age                prof duree  ... suicide.hr  suicide.past  dur.interv\n",
       "7    52.0             artisan   5.0  ...        0.0           0.0        84.0\n",
       "8    42.0             ouvrier   4.0  ...        1.0           1.0        78.0\n",
       "12   21.0             employe   4.0  ...        0.0           0.0        95.0\n",
       "13   40.0             artisan   4.0  ...        0.0           1.0        90.0\n",
       "16   60.0  prof.intermediaire   5.0  ...        0.0           0.0        90.0\n",
       "..    ...                 ...   ...  ...        ...           ...         ...\n",
       "793  27.0  prof.intermediaire   4.0  ...        0.0           0.0        60.0\n",
       "795  44.0             ouvrier   4.0  ...        0.0           1.0       105.0\n",
       "796  31.0               cadre   4.0  ...        0.0           0.0       105.0\n",
       "797  38.0             employe   5.0  ...        0.0           0.0        75.0\n",
       "798  71.0               autre   4.0  ...        0.0           0.0        45.0\n",
       "\n",
       "[403 rows x 26 columns]"
      ]
     },
     "execution_count": 39,
     "metadata": {
      "tags": []
     },
     "output_type": "execute_result"
    }
   ],
   "source": [
    "data.dropna(axis=0)"
   ]
  },
  {
   "cell_type": "markdown",
   "metadata": {
    "colab_type": "text",
    "id": "5heqeSFjFrZI"
   },
   "source": [
    "## **12. Tracer l’histogramme et la densité de la variable age sur la même figure.**"
   ]
  },
  {
   "cell_type": "code",
   "execution_count": 72,
   "metadata": {
    "colab": {
     "base_uri": "https://localhost:8080/",
     "height": 551
    },
    "colab_type": "code",
    "executionInfo": {
     "elapsed": 788,
     "status": "ok",
     "timestamp": 1594743163950,
     "user": {
      "displayName": "Louis Issac Jean Samba DIOUF",
      "photoUrl": "https://lh3.googleusercontent.com/a-/AOh14GhDbQd109018SMPnl6j49HHxZFfO20CmAISQWah=s64",
      "userId": "00842910773125250721"
     },
     "user_tz": 0
    },
    "id": "3NqUE3uPCLkJ",
    "outputId": "332cec5e-8a84-49e5-e957-fd52cc039f96"
   },
   "outputs": [
    {
     "data": {
      "image/png": "[encoded data removed]",
      "text/plain": [
       "<Figure size 864x648 with 1 Axes>"
      ]
     },
     "metadata": {
      "needs_background": "light",
      "tags": []
     },
     "output_type": "display_data"
    }
   ],
   "source": [
    "plt.figure(figsize=(12,9))\n",
    "sns.distplot(data.age)\n",
    "plt.show()"
   ]
  },
  {
   "cell_type": "markdown",
   "metadata": {
    "colab_type": "text",
    "id": "QKczLoXRL3fs"
   },
   "source": [
    "## **13. Discrétisez la variable age**"
   ]
  },
  {
   "cell_type": "code",
   "execution_count": 87,
   "metadata": {
    "colab": {},
    "colab_type": "code",
    "executionInfo": {
     "elapsed": 1386,
     "status": "ok",
     "timestamp": 1594745072279,
     "user": {
      "displayName": "Louis Issac Jean Samba DIOUF",
      "photoUrl": "https://lh3.googleusercontent.com/a-/AOh14GhDbQd109018SMPnl6j49HHxZFfO20CmAISQWah=s64",
      "userId": "00842910773125250721"
     },
     "user_tz": 0
    },
    "id": "9gXjg_SjNP0A"
   },
   "outputs": [],
   "source": [
    "Q1 = data.age.describe()['25%']\n",
    "Q2 = data.age.describe()['50%']\n",
    "Q3 = data.age.describe()['75%']"
   ]
  },
  {
   "cell_type": "code",
   "execution_count": 81,
   "metadata": {
    "colab": {},
    "colab_type": "code",
    "executionInfo": {
     "elapsed": 756,
     "status": "ok",
     "timestamp": 1594744919757,
     "user": {
      "displayName": "Louis Issac Jean Samba DIOUF",
      "photoUrl": "https://lh3.googleusercontent.com/a-/AOh14GhDbQd109018SMPnl6j49HHxZFfO20CmAISQWah=s64",
      "userId": "00842910773125250721"
     },
     "user_tz": 0
    },
    "id": "fnKs8UbEMtzn"
   },
   "outputs": [],
   "source": [
    "min_age = data.age.min()\n",
    "max_age = data.age.max()"
   ]
  },
  {
   "cell_type": "code",
   "execution_count": 187,
   "metadata": {
    "colab": {},
    "colab_type": "code",
    "executionInfo": {
     "elapsed": 681,
     "status": "ok",
     "timestamp": 1594748179705,
     "user": {
      "displayName": "Louis Issac Jean Samba DIOUF",
      "photoUrl": "https://lh3.googleusercontent.com/a-/AOh14GhDbQd109018SMPnl6j49HHxZFfO20CmAISQWah=s64",
      "userId": "00842910773125250721"
     },
     "user_tz": 0
    },
    "id": "bRQvOxMpFRoQ"
   },
   "outputs": [],
   "source": [
    "new_age = np.array(data.age)"
   ]
  },
  {
   "cell_type": "code",
   "execution_count": 188,
   "metadata": {
    "colab": {
     "base_uri": "https://localhost:8080/",
     "height": 305
    },
    "colab_type": "code",
    "executionInfo": {
     "elapsed": 888,
     "status": "ok",
     "timestamp": 1594748180901,
     "user": {
      "displayName": "Louis Issac Jean Samba DIOUF",
      "photoUrl": "https://lh3.googleusercontent.com/a-/AOh14GhDbQd109018SMPnl6j49HHxZFfO20CmAISQWah=s64",
      "userId": "00842910773125250721"
     },
     "user_tz": 0
    },
    "id": "8emn2KAsMAVL",
    "outputId": "12790f08-2b17-4376-adb4-c8fb78de4e08"
   },
   "outputs": [
    {
     "name": "stderr",
     "output_type": "stream",
     "text": [
      "/usr/local/lib/python3.6/dist-packages/ipykernel_launcher.py:2: RuntimeWarning: invalid value encountered in greater_equal\n",
      "  \n",
      "/usr/local/lib/python3.6/dist-packages/ipykernel_launcher.py:2: RuntimeWarning: invalid value encountered in less_equal\n",
      "  \n",
      "/usr/local/lib/python3.6/dist-packages/ipykernel_launcher.py:3: RuntimeWarning: invalid value encountered in greater\n",
      "  This is separate from the ipykernel package so we can avoid doing imports until\n",
      "/usr/local/lib/python3.6/dist-packages/ipykernel_launcher.py:3: RuntimeWarning: invalid value encountered in less_equal\n",
      "  This is separate from the ipykernel package so we can avoid doing imports until\n",
      "/usr/local/lib/python3.6/dist-packages/ipykernel_launcher.py:4: RuntimeWarning: invalid value encountered in greater\n",
      "  after removing the cwd from sys.path.\n",
      "/usr/local/lib/python3.6/dist-packages/ipykernel_launcher.py:4: RuntimeWarning: invalid value encountered in less_equal\n",
      "  after removing the cwd from sys.path.\n",
      "/usr/local/lib/python3.6/dist-packages/ipykernel_launcher.py:5: RuntimeWarning: invalid value encountered in greater\n",
      "  \"\"\"\n",
      "/usr/local/lib/python3.6/dist-packages/ipykernel_launcher.py:5: RuntimeWarning: invalid value encountered in less_equal\n",
      "  \"\"\"\n"
     ]
    }
   ],
   "source": [
    "#new_age[new_age>=min_age and new_age<=Q1] = '['+str(min_age)+','+str(Q1)+']'\n",
    "new_age[(new_age >= min_age) & (new_age <= Q1)] = 1\n",
    "new_age[(new_age > Q1) & (new_age <= Q2)] = 2\n",
    "new_age[(new_age > Q2) & (new_age <= Q3)] = 3\n",
    "new_age[(new_age > Q3) & (new_age <= max_age)] = 4"
   ]
  },
  {
   "cell_type": "code",
   "execution_count": 189,
   "metadata": {
    "colab": {},
    "colab_type": "code",
    "executionInfo": {
     "elapsed": 1007,
     "status": "ok",
     "timestamp": 1594748182468,
     "user": {
      "displayName": "Louis Issac Jean Samba DIOUF",
      "photoUrl": "https://lh3.googleusercontent.com/a-/AOh14GhDbQd109018SMPnl6j49HHxZFfO20CmAISQWah=s64",
      "userId": "00842910773125250721"
     },
     "user_tz": 0
    },
    "id": "iW_AyBIEXVxI"
   },
   "outputs": [],
   "source": [
    "new_age = list(new_age)"
   ]
  },
  {
   "cell_type": "code",
   "execution_count": 190,
   "metadata": {
    "colab": {},
    "colab_type": "code",
    "executionInfo": {
     "elapsed": 481,
     "status": "ok",
     "timestamp": 1594748183386,
     "user": {
      "displayName": "Louis Issac Jean Samba DIOUF",
      "photoUrl": "https://lh3.googleusercontent.com/a-/AOh14GhDbQd109018SMPnl6j49HHxZFfO20CmAISQWah=s64",
      "userId": "00842910773125250721"
     },
     "user_tz": 0
    },
    "id": "2GvHGHQLN55H"
   },
   "outputs": [],
   "source": [
    "for x in range(len(new_age)):\n",
    "  if math.isnan(new_age[x]) == False:\n",
    "    new_age[x] = str(new_age[x])\n",
    "    if (new_age[x] == '1.0'):\n",
    "      new_age[x] = '['+str(min_age)+','+str(Q1)+']'\n",
    "    elif (new_age[x] == '2.0'):\n",
    "      new_age[x] = ']'+str(Q1)+','+str(Q2)+']'\n",
    "    elif (new_age[x] == '3.0'):\n",
    "      new_age[x] = ']'+str(Q2)+','+str(Q3)+']'\n",
    "    elif (new_age[x] == '4.0'):\n",
    "      new_age[x] = ']'+str(Q3)+','+str(max_age)+']'\n"
   ]
  },
  {
   "cell_type": "code",
   "execution_count": 192,
   "metadata": {
    "colab": {},
    "colab_type": "code",
    "executionInfo": {
     "elapsed": 1322,
     "status": "ok",
     "timestamp": 1594748233097,
     "user": {
      "displayName": "Louis Issac Jean Samba DIOUF",
      "photoUrl": "https://lh3.googleusercontent.com/a-/AOh14GhDbQd109018SMPnl6j49HHxZFfO20CmAISQWah=s64",
      "userId": "00842910773125250721"
     },
     "user_tz": 0
    },
    "id": "A10ee3rOUpiv"
   },
   "outputs": [],
   "source": [
    "data['age_classe'] = new_age"
   ]
  },
  {
   "cell_type": "code",
   "execution_count": 193,
   "metadata": {
    "colab": {
     "base_uri": "https://localhost:8080/",
     "height": 224
    },
    "colab_type": "code",
    "executionInfo": {
     "elapsed": 1345,
     "status": "ok",
     "timestamp": 1594748245925,
     "user": {
      "displayName": "Louis Issac Jean Samba DIOUF",
      "photoUrl": "https://lh3.googleusercontent.com/a-/AOh14GhDbQd109018SMPnl6j49HHxZFfO20CmAISQWah=s64",
      "userId": "00842910773125250721"
     },
     "user_tz": 0
    },
    "id": "Kq0Ak8w4WFm0",
    "outputId": "58eed36c-b3ab-4752-d1f7-6e94b1c3753c"
   },
   "outputs": [
    {
     "data": {
      "text/html": [
       "<div>\n",
       "<style scoped>\n",
       "    .dataframe tbody tr th:only-of-type {\n",
       "        vertical-align: middle;\n",
       "    }\n",
       "\n",
       "    .dataframe tbody tr th {\n",
       "        vertical-align: top;\n",
       "    }\n",
       "\n",
       "    .dataframe thead th {\n",
       "        text-align: right;\n",
       "    }\n",
       "</style>\n",
       "<table border=\"1\" class=\"dataframe\">\n",
       "  <thead>\n",
       "    <tr style=\"text-align: right;\">\n",
       "      <th></th>\n",
       "      <th>age</th>\n",
       "      <th>prof</th>\n",
       "      <th>duree</th>\n",
       "      <th>discip</th>\n",
       "      <th>n.enfant</th>\n",
       "      <th>n.fratrie</th>\n",
       "      <th>ecole</th>\n",
       "      <th>separation</th>\n",
       "      <th>juge.enfant</th>\n",
       "      <th>place</th>\n",
       "      <th>abus</th>\n",
       "      <th>grav.cons</th>\n",
       "      <th>dep.cons</th>\n",
       "      <th>ago.cons</th>\n",
       "      <th>ptsd.cons</th>\n",
       "      <th>alc.cons</th>\n",
       "      <th>subst.cons</th>\n",
       "      <th>scz.cons</th>\n",
       "      <th>char</th>\n",
       "      <th>rs</th>\n",
       "      <th>ed</th>\n",
       "      <th>dr</th>\n",
       "      <th>suicide.s</th>\n",
       "      <th>suicide.hr</th>\n",
       "      <th>suicide.past</th>\n",
       "      <th>dur.interv</th>\n",
       "      <th>age_classe</th>\n",
       "    </tr>\n",
       "  </thead>\n",
       "  <tbody>\n",
       "    <tr>\n",
       "      <th>0</th>\n",
       "      <td>31.0</td>\n",
       "      <td>autre</td>\n",
       "      <td>4.0</td>\n",
       "      <td>0.0</td>\n",
       "      <td>2.0</td>\n",
       "      <td>4</td>\n",
       "      <td>1.0</td>\n",
       "      <td>0.0</td>\n",
       "      <td>0.0</td>\n",
       "      <td>0.0</td>\n",
       "      <td>0.0</td>\n",
       "      <td>1.0</td>\n",
       "      <td>0</td>\n",
       "      <td>1</td>\n",
       "      <td>0</td>\n",
       "      <td>0</td>\n",
       "      <td>0</td>\n",
       "      <td>0</td>\n",
       "      <td>1.0</td>\n",
       "      <td>2.0</td>\n",
       "      <td>1.0</td>\n",
       "      <td>1.0</td>\n",
       "      <td>0.0</td>\n",
       "      <td>0.0</td>\n",
       "      <td>0.0</td>\n",
       "      <td>NaN</td>\n",
       "      <td>]28.0,37.0]</td>\n",
       "    </tr>\n",
       "    <tr>\n",
       "      <th>1</th>\n",
       "      <td>49.0</td>\n",
       "      <td>NaN</td>\n",
       "      <td>NaN</td>\n",
       "      <td>0.0</td>\n",
       "      <td>7.0</td>\n",
       "      <td>3</td>\n",
       "      <td>2.0</td>\n",
       "      <td>1.0</td>\n",
       "      <td>0.0</td>\n",
       "      <td>0.0</td>\n",
       "      <td>0.0</td>\n",
       "      <td>2.0</td>\n",
       "      <td>0</td>\n",
       "      <td>0</td>\n",
       "      <td>0</td>\n",
       "      <td>0</td>\n",
       "      <td>0</td>\n",
       "      <td>0</td>\n",
       "      <td>1.0</td>\n",
       "      <td>2.0</td>\n",
       "      <td>2.0</td>\n",
       "      <td>1.0</td>\n",
       "      <td>0.0</td>\n",
       "      <td>0.0</td>\n",
       "      <td>0.0</td>\n",
       "      <td>70.0</td>\n",
       "      <td>]48.0,83.0]</td>\n",
       "    </tr>\n",
       "    <tr>\n",
       "      <th>2</th>\n",
       "      <td>50.0</td>\n",
       "      <td>prof.intermediaire</td>\n",
       "      <td>5.0</td>\n",
       "      <td>0.0</td>\n",
       "      <td>2.0</td>\n",
       "      <td>2</td>\n",
       "      <td>2.0</td>\n",
       "      <td>0.0</td>\n",
       "      <td>0.0</td>\n",
       "      <td>0.0</td>\n",
       "      <td>0.0</td>\n",
       "      <td>2.0</td>\n",
       "      <td>0</td>\n",
       "      <td>0</td>\n",
       "      <td>0</td>\n",
       "      <td>0</td>\n",
       "      <td>0</td>\n",
       "      <td>0</td>\n",
       "      <td>1.0</td>\n",
       "      <td>2.0</td>\n",
       "      <td>3.0</td>\n",
       "      <td>2.0</td>\n",
       "      <td>0.0</td>\n",
       "      <td>0.0</td>\n",
       "      <td>0.0</td>\n",
       "      <td>NaN</td>\n",
       "      <td>]48.0,83.0]</td>\n",
       "    </tr>\n",
       "    <tr>\n",
       "      <th>3</th>\n",
       "      <td>47.0</td>\n",
       "      <td>ouvrier</td>\n",
       "      <td>NaN</td>\n",
       "      <td>0.0</td>\n",
       "      <td>0.0</td>\n",
       "      <td>6</td>\n",
       "      <td>1.0</td>\n",
       "      <td>1.0</td>\n",
       "      <td>0.0</td>\n",
       "      <td>1.0</td>\n",
       "      <td>0.0</td>\n",
       "      <td>1.0</td>\n",
       "      <td>0</td>\n",
       "      <td>0</td>\n",
       "      <td>0</td>\n",
       "      <td>0</td>\n",
       "      <td>0</td>\n",
       "      <td>0</td>\n",
       "      <td>1.0</td>\n",
       "      <td>2.0</td>\n",
       "      <td>2.0</td>\n",
       "      <td>2.0</td>\n",
       "      <td>1.0</td>\n",
       "      <td>0.0</td>\n",
       "      <td>0.0</td>\n",
       "      <td>105.0</td>\n",
       "      <td>]37.0,48.0]</td>\n",
       "    </tr>\n",
       "    <tr>\n",
       "      <th>4</th>\n",
       "      <td>23.0</td>\n",
       "      <td>sans emploi</td>\n",
       "      <td>4.0</td>\n",
       "      <td>1.0</td>\n",
       "      <td>1.0</td>\n",
       "      <td>6</td>\n",
       "      <td>1.0</td>\n",
       "      <td>1.0</td>\n",
       "      <td>NaN</td>\n",
       "      <td>1.0</td>\n",
       "      <td>0.0</td>\n",
       "      <td>2.0</td>\n",
       "      <td>1</td>\n",
       "      <td>0</td>\n",
       "      <td>0</td>\n",
       "      <td>0</td>\n",
       "      <td>0</td>\n",
       "      <td>0</td>\n",
       "      <td>1.0</td>\n",
       "      <td>2.0</td>\n",
       "      <td>2.0</td>\n",
       "      <td>2.0</td>\n",
       "      <td>0.0</td>\n",
       "      <td>0.0</td>\n",
       "      <td>1.0</td>\n",
       "      <td>NaN</td>\n",
       "      <td>[19.0,28.0]</td>\n",
       "    </tr>\n",
       "  </tbody>\n",
       "</table>\n",
       "</div>"
      ],
      "text/plain": [
       "    age                prof duree  ... suicide.past  dur.interv   age_classe\n",
       "0  31.0               autre   4.0  ...          0.0         NaN  ]28.0,37.0]\n",
       "1  49.0                 NaN   NaN  ...          0.0        70.0  ]48.0,83.0]\n",
       "2  50.0  prof.intermediaire   5.0  ...          0.0         NaN  ]48.0,83.0]\n",
       "3  47.0             ouvrier   NaN  ...          0.0       105.0  ]37.0,48.0]\n",
       "4  23.0         sans emploi   4.0  ...          1.0         NaN  [19.0,28.0]\n",
       "\n",
       "[5 rows x 27 columns]"
      ]
     },
     "execution_count": 193,
     "metadata": {
      "tags": []
     },
     "output_type": "execute_result"
    }
   ],
   "source": [
    "data.head()"
   ]
  },
  {
   "cell_type": "markdown",
   "metadata": {
    "colab_type": "text",
    "id": "9MzXUenGaEZp"
   },
   "source": [
    "## **14. Donner les fréquences des modalités de la nouvelle variable age_classe.**"
   ]
  },
  {
   "cell_type": "code",
   "execution_count": 196,
   "metadata": {
    "colab": {
     "base_uri": "https://localhost:8080/",
     "height": 107
    },
    "colab_type": "code",
    "executionInfo": {
     "elapsed": 744,
     "status": "ok",
     "timestamp": 1594748403625,
     "user": {
      "displayName": "Louis Issac Jean Samba DIOUF",
      "photoUrl": "https://lh3.googleusercontent.com/a-/AOh14GhDbQd109018SMPnl6j49HHxZFfO20CmAISQWah=s64",
      "userId": "00842910773125250721"
     },
     "user_tz": 0
    },
    "id": "kXVXfLktZxII",
    "outputId": "ee693f28-6f26-4b66-90dd-176be31e2ccc"
   },
   "outputs": [
    {
     "name": "stdout",
     "output_type": "stream",
     "text": [
      "[19.0,28.0]    212\n",
      "]37.0,48.0]    209\n",
      "]28.0,37.0]    190\n",
      "]48.0,83.0]    186\n",
      "Name: age_classe, dtype: int64\n"
     ]
    }
   ],
   "source": [
    "# Effectifs\n",
    "effectifs = data.age_classe.value_counts()\n",
    "print(effectifs)"
   ]
  },
  {
   "cell_type": "code",
   "execution_count": 198,
   "metadata": {
    "colab": {
     "base_uri": "https://localhost:8080/",
     "height": 107
    },
    "colab_type": "code",
    "executionInfo": {
     "elapsed": 577,
     "status": "ok",
     "timestamp": 1594748423738,
     "user": {
      "displayName": "Louis Issac Jean Samba DIOUF",
      "photoUrl": "https://lh3.googleusercontent.com/a-/AOh14GhDbQd109018SMPnl6j49HHxZFfO20CmAISQWah=s64",
      "userId": "00842910773125250721"
     },
     "user_tz": 0
    },
    "id": "sPDRbE8RaABR",
    "outputId": "94ccd404-24c1-473d-9412-d1b06c24b517"
   },
   "outputs": [
    {
     "data": {
      "text/plain": [
       "[19.0,28.0]    0.265997\n",
       "]37.0,48.0]    0.262233\n",
       "]28.0,37.0]    0.238394\n",
       "]48.0,83.0]    0.233375\n",
       "Name: age_classe, dtype: float64"
      ]
     },
     "execution_count": 198,
     "metadata": {
      "tags": []
     },
     "output_type": "execute_result"
    }
   ],
   "source": [
    "# Effectifs\n",
    "data.age_classe.value_counts() / effectifs.sum()"
   ]
  },
  {
   "cell_type": "code",
   "execution_count": null,
   "metadata": {
    "colab": {},
    "colab_type": "code",
    "id": "FQBXo07Xaa7z"
   },
   "outputs": [],
   "source": []
  }
 ],
 "metadata": {
  "colab": {
   "authorship_tag": "ABX9TyM/yF023tgZmLNmAH2Mgsr1",
   "collapsed_sections": [],
   "name": "Exercice 3.ipynb",
   "provenance": []
  },
  "kernelspec": {
   "display_name": "Python 3",
   "language": "python",
   "name": "python3"
  },
  "language_info": {
   "codemirror_mode": {
    "name": "ipython",
    "version": 3
   },
   "file_extension": ".py",
   "mimetype": "text/x-python",
   "name": "python",
   "nbconvert_exporter": "python",
   "pygments_lexer": "ipython3",
   "version": "3.7.1"
  }
 },
 "nbformat": 4,
 "nbformat_minor": 1
}
